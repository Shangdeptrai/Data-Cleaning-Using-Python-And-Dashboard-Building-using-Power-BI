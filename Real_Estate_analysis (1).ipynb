{
  "cells": [
    {
      "cell_type": "markdown",
      "id": "7db7ac24-9861-471b-9958-fb11246d734a",
      "metadata": {
        "id": "7db7ac24-9861-471b-9958-fb11246d734a",
        "jp-MarkdownHeadingCollapsed": true,
        "tags": []
      },
      "source": [
        "### <div style=\"color:white; background-color:#666; padding: 8px; border-radius: 5px\">**Setup Environment & Run Packages**</div>"
      ]
    },
    {
      "cell_type": "markdown",
      "id": "b1bdf191-936b-41c4-8d04-b983e134f3c6",
      "metadata": {
        "id": "b1bdf191-936b-41c4-8d04-b983e134f3c6"
      },
      "source": [
        "In every project, before everything, we should import all needed libraries. It makes sense that if we need more libraries during the project, we add here."
      ]
    },
    {
      "cell_type": "code",
      "execution_count": null,
      "id": "1b04988e-a79d-4225-bc60-58e1e4835182",
      "metadata": {
        "id": "1b04988e-a79d-4225-bc60-58e1e4835182"
      },
      "outputs": [],
      "source": [
        "import warnings\n",
        "warnings.filterwarnings(\"ignore\")\n",
        "import numpy as np\n",
        "import pandas as pd\n",
        "import datetime\n",
        "from datetime import date"
      ]
    },
    {
      "cell_type": "markdown",
      "id": "ed358722-04ff-4665-a60b-d00e74839719",
      "metadata": {
        "id": "ed358722-04ff-4665-a60b-d00e74839719",
        "jp-MarkdownHeadingCollapsed": true,
        "tags": []
      },
      "source": [
        "### <div style=\"color:white; background-color:#666; padding: 8px; border-radius: 5px\">**Load Data**</div>"
      ]
    },
    {
      "cell_type": "markdown",
      "id": "e22e20e8-3fec-4d0e-bbbe-0a6e35da9821",
      "metadata": {
        "id": "e22e20e8-3fec-4d0e-bbbe-0a6e35da9821"
      },
      "source": [
        "First of all, we import the raw datasets"
      ]
    },
    {
      "cell_type": "code",
      "execution_count": null,
      "id": "bbe2c421-4abd-4039-98e2-1c7e34f7fa66",
      "metadata": {
        "id": "bbe2c421-4abd-4039-98e2-1c7e34f7fa66"
      },
      "outputs": [],
      "source": [
        "customers = pd.read_csv('customers.csv')\n",
        "properties = pd.read_csv('properties.csv')"
      ]
    },
    {
      "cell_type": "code",
      "source": [
        "customers"
      ],
      "metadata": {
        "colab": {
          "base_uri": "https://localhost:8080/",
          "height": 423
        },
        "id": "s4PLowqkgq0r",
        "outputId": "9ff838ad-368a-4714-caa5-da056c8d08ef"
      },
      "id": "s4PLowqkgq0r",
      "execution_count": null,
      "outputs": [
        {
          "output_type": "execute_result",
          "data": {
            "text/plain": [
              "     Unnamed: 0 CustomerID      entity      name   surname  birth_date  sex  \\\n",
              "0           154      C0001     Company      Kamd        Co         NaN  NaN   \n",
              "1           101      C0002  Individual      Jack  Anderson   2/13/1947    M   \n",
              "2            93      C0003  Individual      Avah     Huang   4/23/1948    F   \n",
              "3            77      C0004  Individual      Nora     Lynch   4/23/1948    F   \n",
              "4            24      C0005  Individual   Rodolfo    Gibson   1/20/1937    M   \n",
              "..          ...        ...         ...       ...       ...         ...  ...   \n",
              "157         157      C0170  Individual      Emmy     Singh   12/3/1979    F   \n",
              "158          30      C0171  Individual    Skylar  Buchanan  12/25/1977    M   \n",
              "159          56      C0172  Individual     Henry   Kennedy    6/8/1933    M   \n",
              "160           4      C0174     Company   Marleez        Co         NaN  NaN   \n",
              "161         119      C0175  Individual  Madeline   Michael   7/30/1953    F   \n",
              "\n",
              "    country       state       purpose  deal_satisfaction mortgage   source  \n",
              "0       USA  California    Investment                  5       No   Agency  \n",
              "1       USA  California    Investment                  5      Yes  Website  \n",
              "2       USA  California  Personal Use                  5       No  Website  \n",
              "3       USA  California  Personal Use                  5       No  Website  \n",
              "4       USA      Nevada  Personal Use                  2      Yes  Website  \n",
              "..      ...         ...           ...                ...      ...      ...  \n",
              "157     USA    Virginia    Investment                  3      Yes   Agency  \n",
              "158     USA      Nevada  Personal Use                  4      Yes  Website  \n",
              "159     USA  California  Personal Use                  4      Yes   Agency  \n",
              "160    USA   California    Investment                  5       No  Website  \n",
              "161     USA  California  Personal Use                  4      Yes  Website  \n",
              "\n",
              "[162 rows x 13 columns]"
            ],
            "text/html": [
              "\n",
              "  <div id=\"df-16221b61-8491-423c-8b0d-1cf2f1cc9522\" class=\"colab-df-container\">\n",
              "    <div>\n",
              "<style scoped>\n",
              "    .dataframe tbody tr th:only-of-type {\n",
              "        vertical-align: middle;\n",
              "    }\n",
              "\n",
              "    .dataframe tbody tr th {\n",
              "        vertical-align: top;\n",
              "    }\n",
              "\n",
              "    .dataframe thead th {\n",
              "        text-align: right;\n",
              "    }\n",
              "</style>\n",
              "<table border=\"1\" class=\"dataframe\">\n",
              "  <thead>\n",
              "    <tr style=\"text-align: right;\">\n",
              "      <th></th>\n",
              "      <th>Unnamed: 0</th>\n",
              "      <th>CustomerID</th>\n",
              "      <th>entity</th>\n",
              "      <th>name</th>\n",
              "      <th>surname</th>\n",
              "      <th>birth_date</th>\n",
              "      <th>sex</th>\n",
              "      <th>country</th>\n",
              "      <th>state</th>\n",
              "      <th>purpose</th>\n",
              "      <th>deal_satisfaction</th>\n",
              "      <th>mortgage</th>\n",
              "      <th>source</th>\n",
              "    </tr>\n",
              "  </thead>\n",
              "  <tbody>\n",
              "    <tr>\n",
              "      <th>0</th>\n",
              "      <td>154</td>\n",
              "      <td>C0001</td>\n",
              "      <td>Company</td>\n",
              "      <td>Kamd</td>\n",
              "      <td>Co</td>\n",
              "      <td>NaN</td>\n",
              "      <td>NaN</td>\n",
              "      <td>USA</td>\n",
              "      <td>California</td>\n",
              "      <td>Investment</td>\n",
              "      <td>5</td>\n",
              "      <td>No</td>\n",
              "      <td>Agency</td>\n",
              "    </tr>\n",
              "    <tr>\n",
              "      <th>1</th>\n",
              "      <td>101</td>\n",
              "      <td>C0002</td>\n",
              "      <td>Individual</td>\n",
              "      <td>Jack</td>\n",
              "      <td>Anderson</td>\n",
              "      <td>2/13/1947</td>\n",
              "      <td>M</td>\n",
              "      <td>USA</td>\n",
              "      <td>California</td>\n",
              "      <td>Investment</td>\n",
              "      <td>5</td>\n",
              "      <td>Yes</td>\n",
              "      <td>Website</td>\n",
              "    </tr>\n",
              "    <tr>\n",
              "      <th>2</th>\n",
              "      <td>93</td>\n",
              "      <td>C0003</td>\n",
              "      <td>Individual</td>\n",
              "      <td>Avah</td>\n",
              "      <td>Huang</td>\n",
              "      <td>4/23/1948</td>\n",
              "      <td>F</td>\n",
              "      <td>USA</td>\n",
              "      <td>California</td>\n",
              "      <td>Personal Use</td>\n",
              "      <td>5</td>\n",
              "      <td>No</td>\n",
              "      <td>Website</td>\n",
              "    </tr>\n",
              "    <tr>\n",
              "      <th>3</th>\n",
              "      <td>77</td>\n",
              "      <td>C0004</td>\n",
              "      <td>Individual</td>\n",
              "      <td>Nora</td>\n",
              "      <td>Lynch</td>\n",
              "      <td>4/23/1948</td>\n",
              "      <td>F</td>\n",
              "      <td>USA</td>\n",
              "      <td>California</td>\n",
              "      <td>Personal Use</td>\n",
              "      <td>5</td>\n",
              "      <td>No</td>\n",
              "      <td>Website</td>\n",
              "    </tr>\n",
              "    <tr>\n",
              "      <th>4</th>\n",
              "      <td>24</td>\n",
              "      <td>C0005</td>\n",
              "      <td>Individual</td>\n",
              "      <td>Rodolfo</td>\n",
              "      <td>Gibson</td>\n",
              "      <td>1/20/1937</td>\n",
              "      <td>M</td>\n",
              "      <td>USA</td>\n",
              "      <td>Nevada</td>\n",
              "      <td>Personal Use</td>\n",
              "      <td>2</td>\n",
              "      <td>Yes</td>\n",
              "      <td>Website</td>\n",
              "    </tr>\n",
              "    <tr>\n",
              "      <th>...</th>\n",
              "      <td>...</td>\n",
              "      <td>...</td>\n",
              "      <td>...</td>\n",
              "      <td>...</td>\n",
              "      <td>...</td>\n",
              "      <td>...</td>\n",
              "      <td>...</td>\n",
              "      <td>...</td>\n",
              "      <td>...</td>\n",
              "      <td>...</td>\n",
              "      <td>...</td>\n",
              "      <td>...</td>\n",
              "      <td>...</td>\n",
              "    </tr>\n",
              "    <tr>\n",
              "      <th>157</th>\n",
              "      <td>157</td>\n",
              "      <td>C0170</td>\n",
              "      <td>Individual</td>\n",
              "      <td>Emmy</td>\n",
              "      <td>Singh</td>\n",
              "      <td>12/3/1979</td>\n",
              "      <td>F</td>\n",
              "      <td>USA</td>\n",
              "      <td>Virginia</td>\n",
              "      <td>Investment</td>\n",
              "      <td>3</td>\n",
              "      <td>Yes</td>\n",
              "      <td>Agency</td>\n",
              "    </tr>\n",
              "    <tr>\n",
              "      <th>158</th>\n",
              "      <td>30</td>\n",
              "      <td>C0171</td>\n",
              "      <td>Individual</td>\n",
              "      <td>Skylar</td>\n",
              "      <td>Buchanan</td>\n",
              "      <td>12/25/1977</td>\n",
              "      <td>M</td>\n",
              "      <td>USA</td>\n",
              "      <td>Nevada</td>\n",
              "      <td>Personal Use</td>\n",
              "      <td>4</td>\n",
              "      <td>Yes</td>\n",
              "      <td>Website</td>\n",
              "    </tr>\n",
              "    <tr>\n",
              "      <th>159</th>\n",
              "      <td>56</td>\n",
              "      <td>C0172</td>\n",
              "      <td>Individual</td>\n",
              "      <td>Henry</td>\n",
              "      <td>Kennedy</td>\n",
              "      <td>6/8/1933</td>\n",
              "      <td>M</td>\n",
              "      <td>USA</td>\n",
              "      <td>California</td>\n",
              "      <td>Personal Use</td>\n",
              "      <td>4</td>\n",
              "      <td>Yes</td>\n",
              "      <td>Agency</td>\n",
              "    </tr>\n",
              "    <tr>\n",
              "      <th>160</th>\n",
              "      <td>4</td>\n",
              "      <td>C0174</td>\n",
              "      <td>Company</td>\n",
              "      <td>Marleez</td>\n",
              "      <td>Co</td>\n",
              "      <td>NaN</td>\n",
              "      <td>NaN</td>\n",
              "      <td>USA</td>\n",
              "      <td>California</td>\n",
              "      <td>Investment</td>\n",
              "      <td>5</td>\n",
              "      <td>No</td>\n",
              "      <td>Website</td>\n",
              "    </tr>\n",
              "    <tr>\n",
              "      <th>161</th>\n",
              "      <td>119</td>\n",
              "      <td>C0175</td>\n",
              "      <td>Individual</td>\n",
              "      <td>Madeline</td>\n",
              "      <td>Michael</td>\n",
              "      <td>7/30/1953</td>\n",
              "      <td>F</td>\n",
              "      <td>USA</td>\n",
              "      <td>California</td>\n",
              "      <td>Personal Use</td>\n",
              "      <td>4</td>\n",
              "      <td>Yes</td>\n",
              "      <td>Website</td>\n",
              "    </tr>\n",
              "  </tbody>\n",
              "</table>\n",
              "<p>162 rows × 13 columns</p>\n",
              "</div>\n",
              "    <div class=\"colab-df-buttons\">\n",
              "\n",
              "  <div class=\"colab-df-container\">\n",
              "    <button class=\"colab-df-convert\" onclick=\"convertToInteractive('df-16221b61-8491-423c-8b0d-1cf2f1cc9522')\"\n",
              "            title=\"Convert this dataframe to an interactive table.\"\n",
              "            style=\"display:none;\">\n",
              "\n",
              "  <svg xmlns=\"http://www.w3.org/2000/svg\" height=\"24px\" viewBox=\"0 -960 960 960\">\n",
              "    <path d=\"M120-120v-720h720v720H120Zm60-500h600v-160H180v160Zm220 220h160v-160H400v160Zm0 220h160v-160H400v160ZM180-400h160v-160H180v160Zm440 0h160v-160H620v160ZM180-180h160v-160H180v160Zm440 0h160v-160H620v160Z\"/>\n",
              "  </svg>\n",
              "    </button>\n",
              "\n",
              "  <style>\n",
              "    .colab-df-container {\n",
              "      display:flex;\n",
              "      gap: 12px;\n",
              "    }\n",
              "\n",
              "    .colab-df-convert {\n",
              "      background-color: #E8F0FE;\n",
              "      border: none;\n",
              "      border-radius: 50%;\n",
              "      cursor: pointer;\n",
              "      display: none;\n",
              "      fill: #1967D2;\n",
              "      height: 32px;\n",
              "      padding: 0 0 0 0;\n",
              "      width: 32px;\n",
              "    }\n",
              "\n",
              "    .colab-df-convert:hover {\n",
              "      background-color: #E2EBFA;\n",
              "      box-shadow: 0px 1px 2px rgba(60, 64, 67, 0.3), 0px 1px 3px 1px rgba(60, 64, 67, 0.15);\n",
              "      fill: #174EA6;\n",
              "    }\n",
              "\n",
              "    .colab-df-buttons div {\n",
              "      margin-bottom: 4px;\n",
              "    }\n",
              "\n",
              "    [theme=dark] .colab-df-convert {\n",
              "      background-color: #3B4455;\n",
              "      fill: #D2E3FC;\n",
              "    }\n",
              "\n",
              "    [theme=dark] .colab-df-convert:hover {\n",
              "      background-color: #434B5C;\n",
              "      box-shadow: 0px 1px 3px 1px rgba(0, 0, 0, 0.15);\n",
              "      filter: drop-shadow(0px 1px 2px rgba(0, 0, 0, 0.3));\n",
              "      fill: #FFFFFF;\n",
              "    }\n",
              "  </style>\n",
              "\n",
              "    <script>\n",
              "      const buttonEl =\n",
              "        document.querySelector('#df-16221b61-8491-423c-8b0d-1cf2f1cc9522 button.colab-df-convert');\n",
              "      buttonEl.style.display =\n",
              "        google.colab.kernel.accessAllowed ? 'block' : 'none';\n",
              "\n",
              "      async function convertToInteractive(key) {\n",
              "        const element = document.querySelector('#df-16221b61-8491-423c-8b0d-1cf2f1cc9522');\n",
              "        const dataTable =\n",
              "          await google.colab.kernel.invokeFunction('convertToInteractive',\n",
              "                                                    [key], {});\n",
              "        if (!dataTable) return;\n",
              "\n",
              "        const docLinkHtml = 'Like what you see? Visit the ' +\n",
              "          '<a target=\"_blank\" href=https://colab.research.google.com/notebooks/data_table.ipynb>data table notebook</a>'\n",
              "          + ' to learn more about interactive tables.';\n",
              "        element.innerHTML = '';\n",
              "        dataTable['output_type'] = 'display_data';\n",
              "        await google.colab.output.renderOutput(dataTable, element);\n",
              "        const docLink = document.createElement('div');\n",
              "        docLink.innerHTML = docLinkHtml;\n",
              "        element.appendChild(docLink);\n",
              "      }\n",
              "    </script>\n",
              "  </div>\n",
              "\n",
              "\n",
              "<div id=\"df-733e82a0-2a6c-45c2-9c3f-d793eb601b66\">\n",
              "  <button class=\"colab-df-quickchart\" onclick=\"quickchart('df-733e82a0-2a6c-45c2-9c3f-d793eb601b66')\"\n",
              "            title=\"Suggest charts\"\n",
              "            style=\"display:none;\">\n",
              "\n",
              "<svg xmlns=\"http://www.w3.org/2000/svg\" height=\"24px\"viewBox=\"0 0 24 24\"\n",
              "     width=\"24px\">\n",
              "    <g>\n",
              "        <path d=\"M19 3H5c-1.1 0-2 .9-2 2v14c0 1.1.9 2 2 2h14c1.1 0 2-.9 2-2V5c0-1.1-.9-2-2-2zM9 17H7v-7h2v7zm4 0h-2V7h2v10zm4 0h-2v-4h2v4z\"/>\n",
              "    </g>\n",
              "</svg>\n",
              "  </button>\n",
              "\n",
              "<style>\n",
              "  .colab-df-quickchart {\n",
              "      --bg-color: #E8F0FE;\n",
              "      --fill-color: #1967D2;\n",
              "      --hover-bg-color: #E2EBFA;\n",
              "      --hover-fill-color: #174EA6;\n",
              "      --disabled-fill-color: #AAA;\n",
              "      --disabled-bg-color: #DDD;\n",
              "  }\n",
              "\n",
              "  [theme=dark] .colab-df-quickchart {\n",
              "      --bg-color: #3B4455;\n",
              "      --fill-color: #D2E3FC;\n",
              "      --hover-bg-color: #434B5C;\n",
              "      --hover-fill-color: #FFFFFF;\n",
              "      --disabled-bg-color: #3B4455;\n",
              "      --disabled-fill-color: #666;\n",
              "  }\n",
              "\n",
              "  .colab-df-quickchart {\n",
              "    background-color: var(--bg-color);\n",
              "    border: none;\n",
              "    border-radius: 50%;\n",
              "    cursor: pointer;\n",
              "    display: none;\n",
              "    fill: var(--fill-color);\n",
              "    height: 32px;\n",
              "    padding: 0;\n",
              "    width: 32px;\n",
              "  }\n",
              "\n",
              "  .colab-df-quickchart:hover {\n",
              "    background-color: var(--hover-bg-color);\n",
              "    box-shadow: 0 1px 2px rgba(60, 64, 67, 0.3), 0 1px 3px 1px rgba(60, 64, 67, 0.15);\n",
              "    fill: var(--button-hover-fill-color);\n",
              "  }\n",
              "\n",
              "  .colab-df-quickchart-complete:disabled,\n",
              "  .colab-df-quickchart-complete:disabled:hover {\n",
              "    background-color: var(--disabled-bg-color);\n",
              "    fill: var(--disabled-fill-color);\n",
              "    box-shadow: none;\n",
              "  }\n",
              "\n",
              "  .colab-df-spinner {\n",
              "    border: 2px solid var(--fill-color);\n",
              "    border-color: transparent;\n",
              "    border-bottom-color: var(--fill-color);\n",
              "    animation:\n",
              "      spin 1s steps(1) infinite;\n",
              "  }\n",
              "\n",
              "  @keyframes spin {\n",
              "    0% {\n",
              "      border-color: transparent;\n",
              "      border-bottom-color: var(--fill-color);\n",
              "      border-left-color: var(--fill-color);\n",
              "    }\n",
              "    20% {\n",
              "      border-color: transparent;\n",
              "      border-left-color: var(--fill-color);\n",
              "      border-top-color: var(--fill-color);\n",
              "    }\n",
              "    30% {\n",
              "      border-color: transparent;\n",
              "      border-left-color: var(--fill-color);\n",
              "      border-top-color: var(--fill-color);\n",
              "      border-right-color: var(--fill-color);\n",
              "    }\n",
              "    40% {\n",
              "      border-color: transparent;\n",
              "      border-right-color: var(--fill-color);\n",
              "      border-top-color: var(--fill-color);\n",
              "    }\n",
              "    60% {\n",
              "      border-color: transparent;\n",
              "      border-right-color: var(--fill-color);\n",
              "    }\n",
              "    80% {\n",
              "      border-color: transparent;\n",
              "      border-right-color: var(--fill-color);\n",
              "      border-bottom-color: var(--fill-color);\n",
              "    }\n",
              "    90% {\n",
              "      border-color: transparent;\n",
              "      border-bottom-color: var(--fill-color);\n",
              "    }\n",
              "  }\n",
              "</style>\n",
              "\n",
              "  <script>\n",
              "    async function quickchart(key) {\n",
              "      const quickchartButtonEl =\n",
              "        document.querySelector('#' + key + ' button');\n",
              "      quickchartButtonEl.disabled = true;  // To prevent multiple clicks.\n",
              "      quickchartButtonEl.classList.add('colab-df-spinner');\n",
              "      try {\n",
              "        const charts = await google.colab.kernel.invokeFunction(\n",
              "            'suggestCharts', [key], {});\n",
              "      } catch (error) {\n",
              "        console.error('Error during call to suggestCharts:', error);\n",
              "      }\n",
              "      quickchartButtonEl.classList.remove('colab-df-spinner');\n",
              "      quickchartButtonEl.classList.add('colab-df-quickchart-complete');\n",
              "    }\n",
              "    (() => {\n",
              "      let quickchartButtonEl =\n",
              "        document.querySelector('#df-733e82a0-2a6c-45c2-9c3f-d793eb601b66 button');\n",
              "      quickchartButtonEl.style.display =\n",
              "        google.colab.kernel.accessAllowed ? 'block' : 'none';\n",
              "    })();\n",
              "  </script>\n",
              "</div>\n",
              "\n",
              "  <div id=\"id_a99b9376-e8e1-4331-8d80-bcda8fb1d534\">\n",
              "    <style>\n",
              "      .colab-df-generate {\n",
              "        background-color: #E8F0FE;\n",
              "        border: none;\n",
              "        border-radius: 50%;\n",
              "        cursor: pointer;\n",
              "        display: none;\n",
              "        fill: #1967D2;\n",
              "        height: 32px;\n",
              "        padding: 0 0 0 0;\n",
              "        width: 32px;\n",
              "      }\n",
              "\n",
              "      .colab-df-generate:hover {\n",
              "        background-color: #E2EBFA;\n",
              "        box-shadow: 0px 1px 2px rgba(60, 64, 67, 0.3), 0px 1px 3px 1px rgba(60, 64, 67, 0.15);\n",
              "        fill: #174EA6;\n",
              "      }\n",
              "\n",
              "      [theme=dark] .colab-df-generate {\n",
              "        background-color: #3B4455;\n",
              "        fill: #D2E3FC;\n",
              "      }\n",
              "\n",
              "      [theme=dark] .colab-df-generate:hover {\n",
              "        background-color: #434B5C;\n",
              "        box-shadow: 0px 1px 3px 1px rgba(0, 0, 0, 0.15);\n",
              "        filter: drop-shadow(0px 1px 2px rgba(0, 0, 0, 0.3));\n",
              "        fill: #FFFFFF;\n",
              "      }\n",
              "    </style>\n",
              "    <button class=\"colab-df-generate\" onclick=\"generateWithVariable('customers')\"\n",
              "            title=\"Generate code using this dataframe.\"\n",
              "            style=\"display:none;\">\n",
              "\n",
              "  <svg xmlns=\"http://www.w3.org/2000/svg\" height=\"24px\"viewBox=\"0 0 24 24\"\n",
              "       width=\"24px\">\n",
              "    <path d=\"M7,19H8.4L18.45,9,17,7.55,7,17.6ZM5,21V16.75L18.45,3.32a2,2,0,0,1,2.83,0l1.4,1.43a1.91,1.91,0,0,1,.58,1.4,1.91,1.91,0,0,1-.58,1.4L9.25,21ZM18.45,9,17,7.55Zm-12,3A5.31,5.31,0,0,0,4.9,8.1,5.31,5.31,0,0,0,1,6.5,5.31,5.31,0,0,0,4.9,4.9,5.31,5.31,0,0,0,6.5,1,5.31,5.31,0,0,0,8.1,4.9,5.31,5.31,0,0,0,12,6.5,5.46,5.46,0,0,0,6.5,12Z\"/>\n",
              "  </svg>\n",
              "    </button>\n",
              "    <script>\n",
              "      (() => {\n",
              "      const buttonEl =\n",
              "        document.querySelector('#id_a99b9376-e8e1-4331-8d80-bcda8fb1d534 button.colab-df-generate');\n",
              "      buttonEl.style.display =\n",
              "        google.colab.kernel.accessAllowed ? 'block' : 'none';\n",
              "\n",
              "      buttonEl.onclick = () => {\n",
              "        google.colab.notebook.generateWithVariable('customers');\n",
              "      }\n",
              "      })();\n",
              "    </script>\n",
              "  </div>\n",
              "\n",
              "    </div>\n",
              "  </div>\n"
            ],
            "application/vnd.google.colaboratory.intrinsic+json": {
              "type": "dataframe",
              "variable_name": "customers",
              "summary": "{\n  \"name\": \"customers\",\n  \"rows\": 162,\n  \"fields\": [\n    {\n      \"column\": \"Unnamed: 0\",\n      \"properties\": {\n        \"dtype\": \"number\",\n        \"std\": 46,\n        \"min\": 0,\n        \"max\": 161,\n        \"num_unique_values\": 162,\n        \"samples\": [\n          30,\n          78,\n          100\n        ],\n        \"semantic_type\": \"\",\n        \"description\": \"\"\n      }\n    },\n    {\n      \"column\": \"CustomerID\",\n      \"properties\": {\n        \"dtype\": \"string\",\n        \"num_unique_values\": 162,\n        \"samples\": [\n          \"C0171\",\n          \"C0118\",\n          \"C0140\"\n        ],\n        \"semantic_type\": \"\",\n        \"description\": \"\"\n      }\n    },\n    {\n      \"column\": \"entity\",\n      \"properties\": {\n        \"dtype\": \"category\",\n        \"num_unique_values\": 2,\n        \"samples\": [\n          \"Individual\",\n          \"Company\"\n        ],\n        \"semantic_type\": \"\",\n        \"description\": \"\"\n      }\n    },\n    {\n      \"column\": \"name\",\n      \"properties\": {\n        \"dtype\": \"string\",\n        \"num_unique_values\": 159,\n        \"samples\": [\n          \"Violet\",\n          \"Skylar\"\n        ],\n        \"semantic_type\": \"\",\n        \"description\": \"\"\n      }\n    },\n    {\n      \"column\": \"surname\",\n      \"properties\": {\n        \"dtype\": \"string\",\n        \"num_unique_values\": 156,\n        \"samples\": [\n          \"Howard\",\n          \"Ayers\"\n        ],\n        \"semantic_type\": \"\",\n        \"description\": \"\"\n      }\n    },\n    {\n      \"column\": \"birth_date\",\n      \"properties\": {\n        \"dtype\": \"date\",\n        \"min\": \"1931-02-13 00:00:00\",\n        \"max\": \"1986-06-21 00:00:00\",\n        \"num_unique_values\": 151,\n        \"samples\": [\n          \"7/17/1973\",\n          \"4/13/1967\"\n        ],\n        \"semantic_type\": \"\",\n        \"description\": \"\"\n      }\n    },\n    {\n      \"column\": \"sex\",\n      \"properties\": {\n        \"dtype\": \"category\",\n        \"num_unique_values\": 2,\n        \"samples\": [\n          \"F\",\n          \"M\"\n        ],\n        \"semantic_type\": \"\",\n        \"description\": \"\"\n      }\n    },\n    {\n      \"column\": \"country\",\n      \"properties\": {\n        \"dtype\": \"category\",\n        \"num_unique_values\": 9,\n        \"samples\": [\n          \"UK\",\n          \"Belgium\"\n        ],\n        \"semantic_type\": \"\",\n        \"description\": \"\"\n      }\n    },\n    {\n      \"column\": \"state\",\n      \"properties\": {\n        \"dtype\": \"category\",\n        \"num_unique_values\": 9,\n        \"samples\": [\n          \"Wyoming\",\n          \"Nevada\"\n        ],\n        \"semantic_type\": \"\",\n        \"description\": \"\"\n      }\n    },\n    {\n      \"column\": \"purpose\",\n      \"properties\": {\n        \"dtype\": \"category\",\n        \"num_unique_values\": 2,\n        \"samples\": [\n          \"Personal Use\",\n          \"Investment\"\n        ],\n        \"semantic_type\": \"\",\n        \"description\": \"\"\n      }\n    },\n    {\n      \"column\": \"deal_satisfaction\",\n      \"properties\": {\n        \"dtype\": \"number\",\n        \"std\": 1,\n        \"min\": 1,\n        \"max\": 5,\n        \"num_unique_values\": 5,\n        \"samples\": [\n          2,\n          1\n        ],\n        \"semantic_type\": \"\",\n        \"description\": \"\"\n      }\n    },\n    {\n      \"column\": \"mortgage\",\n      \"properties\": {\n        \"dtype\": \"category\",\n        \"num_unique_values\": 2,\n        \"samples\": [\n          \"Yes\",\n          \"No\"\n        ],\n        \"semantic_type\": \"\",\n        \"description\": \"\"\n      }\n    },\n    {\n      \"column\": \"source\",\n      \"properties\": {\n        \"dtype\": \"category\",\n        \"num_unique_values\": 3,\n        \"samples\": [\n          \"Agency\",\n          \"Website\"\n        ],\n        \"semantic_type\": \"\",\n        \"description\": \"\"\n      }\n    }\n  ]\n}"
            }
          },
          "metadata": {},
          "execution_count": 7
        }
      ]
    },
    {
      "cell_type": "markdown",
      "id": "38008538-9b7f-426a-9d6e-e008b28cd6b9",
      "metadata": {
        "id": "38008538-9b7f-426a-9d6e-e008b28cd6b9"
      },
      "source": [
        "Then we should merge two datasets into one."
      ]
    },
    {
      "cell_type": "code",
      "execution_count": null,
      "id": "a56c4178-d64f-4646-bad0-f15a26c63f8f",
      "metadata": {
        "id": "a56c4178-d64f-4646-bad0-f15a26c63f8f"
      },
      "outputs": [],
      "source": [
        "df = pd.merge(customers, properties, on='CustomerID', how='left')"
      ]
    },
    {
      "cell_type": "code",
      "source": [
        "df"
      ],
      "metadata": {
        "colab": {
          "base_uri": "https://localhost:8080/",
          "height": 530
        },
        "id": "GT61aJfbdJKc",
        "outputId": "8c664d0f-d4c4-4c54-ffeb-40cbfa55521d"
      },
      "id": "GT61aJfbdJKc",
      "execution_count": null,
      "outputs": [
        {
          "output_type": "execute_result",
          "data": {
            "text/plain": [
              "     Unnamed: 0_x CustomerID      entity      name   surname birth_date  sex  \\\n",
              "0             154      C0001     Company      Kamd        Co        NaN  NaN   \n",
              "1             101      C0002  Individual      Jack  Anderson  2/13/1947    M   \n",
              "2              93      C0003  Individual      Avah     Huang  4/23/1948    F   \n",
              "3              77      C0004  Individual      Nora     Lynch  4/23/1948    F   \n",
              "4              24      C0005  Individual   Rodolfo    Gibson  1/20/1937    M   \n",
              "..            ...        ...         ...       ...       ...        ...  ...   \n",
              "189             4      C0174     Company   Marleez        Co        NaN  NaN   \n",
              "190             4      C0174     Company   Marleez        Co        NaN  NaN   \n",
              "191             4      C0174     Company   Marleez        Co        NaN  NaN   \n",
              "192             4      C0174     Company   Marleez        Co        NaN  NaN   \n",
              "193           119      C0175  Individual  Madeline   Michael  7/30/1953    F   \n",
              "\n",
              "    country       state       purpose  ...   source Unnamed: 0_y homeid  \\\n",
              "0       USA  California    Investment  ...   Agency          179   1005   \n",
              "1       USA  California    Investment  ...  Website          137   1002   \n",
              "2       USA  California  Personal Use  ...  Website          132   1044   \n",
              "3       USA  California  Personal Use  ...  Website          133   1043   \n",
              "4       USA      Nevada  Personal Use  ...  Website          164   1033   \n",
              "..      ...         ...           ...  ...      ...          ...    ...   \n",
              "189    USA   California    Investment  ...  Website          192   1028   \n",
              "190    USA   California    Investment  ...  Website          193   1034   \n",
              "191    USA   California    Investment  ...  Website          194   1037   \n",
              "192    USA   California    Investment  ...  Website          195   1042   \n",
              "193     USA  California  Personal Use  ...  Website          125   4029   \n",
              "\n",
              "     building  date_sale       type property#     area         price  status  \n",
              "0           1   3/1/2004     Office         5   410.71  $117,564.07    Sold   \n",
              "1           1   3/1/2004     Office         2  1238.58  $410,932.67    Sold   \n",
              "2           1   6/1/2004  Apartment        44   827.87  $229,464.71    Sold   \n",
              "3           1   6/1/2004  Apartment        43  1160.36  $377,313.56    Sold   \n",
              "4           1   8/1/2004  Apartment        33  1434.09  $412,856.56    Sold   \n",
              "..        ...        ...        ...       ...      ...           ...     ...  \n",
              "189         1   7/1/2005  Apartment        28  1160.36  $331,154.88    Sold   \n",
              "190         1   7/1/2005  Apartment        34   625.80  $204,434.68    Sold   \n",
              "191         1   7/1/2005  Apartment        37   756.21  $189,194.31    Sold   \n",
              "192         1   7/1/2005  Apartment        42   625.80  $204,027.09    Sold   \n",
              "193         4  11/1/2007  Apartment        29   794.52  $200,148.89    Sold   \n",
              "\n",
              "[194 rows x 22 columns]"
            ],
            "text/html": [
              "\n",
              "  <div id=\"df-b00f80ca-5c8a-4971-8134-5a5e5f49b3d8\" class=\"colab-df-container\">\n",
              "    <div>\n",
              "<style scoped>\n",
              "    .dataframe tbody tr th:only-of-type {\n",
              "        vertical-align: middle;\n",
              "    }\n",
              "\n",
              "    .dataframe tbody tr th {\n",
              "        vertical-align: top;\n",
              "    }\n",
              "\n",
              "    .dataframe thead th {\n",
              "        text-align: right;\n",
              "    }\n",
              "</style>\n",
              "<table border=\"1\" class=\"dataframe\">\n",
              "  <thead>\n",
              "    <tr style=\"text-align: right;\">\n",
              "      <th></th>\n",
              "      <th>Unnamed: 0_x</th>\n",
              "      <th>CustomerID</th>\n",
              "      <th>entity</th>\n",
              "      <th>name</th>\n",
              "      <th>surname</th>\n",
              "      <th>birth_date</th>\n",
              "      <th>sex</th>\n",
              "      <th>country</th>\n",
              "      <th>state</th>\n",
              "      <th>purpose</th>\n",
              "      <th>...</th>\n",
              "      <th>source</th>\n",
              "      <th>Unnamed: 0_y</th>\n",
              "      <th>homeid</th>\n",
              "      <th>building</th>\n",
              "      <th>date_sale</th>\n",
              "      <th>type</th>\n",
              "      <th>property#</th>\n",
              "      <th>area</th>\n",
              "      <th>price</th>\n",
              "      <th>status</th>\n",
              "    </tr>\n",
              "  </thead>\n",
              "  <tbody>\n",
              "    <tr>\n",
              "      <th>0</th>\n",
              "      <td>154</td>\n",
              "      <td>C0001</td>\n",
              "      <td>Company</td>\n",
              "      <td>Kamd</td>\n",
              "      <td>Co</td>\n",
              "      <td>NaN</td>\n",
              "      <td>NaN</td>\n",
              "      <td>USA</td>\n",
              "      <td>California</td>\n",
              "      <td>Investment</td>\n",
              "      <td>...</td>\n",
              "      <td>Agency</td>\n",
              "      <td>179</td>\n",
              "      <td>1005</td>\n",
              "      <td>1</td>\n",
              "      <td>3/1/2004</td>\n",
              "      <td>Office</td>\n",
              "      <td>5</td>\n",
              "      <td>410.71</td>\n",
              "      <td>$117,564.07</td>\n",
              "      <td>Sold</td>\n",
              "    </tr>\n",
              "    <tr>\n",
              "      <th>1</th>\n",
              "      <td>101</td>\n",
              "      <td>C0002</td>\n",
              "      <td>Individual</td>\n",
              "      <td>Jack</td>\n",
              "      <td>Anderson</td>\n",
              "      <td>2/13/1947</td>\n",
              "      <td>M</td>\n",
              "      <td>USA</td>\n",
              "      <td>California</td>\n",
              "      <td>Investment</td>\n",
              "      <td>...</td>\n",
              "      <td>Website</td>\n",
              "      <td>137</td>\n",
              "      <td>1002</td>\n",
              "      <td>1</td>\n",
              "      <td>3/1/2004</td>\n",
              "      <td>Office</td>\n",
              "      <td>2</td>\n",
              "      <td>1238.58</td>\n",
              "      <td>$410,932.67</td>\n",
              "      <td>Sold</td>\n",
              "    </tr>\n",
              "    <tr>\n",
              "      <th>2</th>\n",
              "      <td>93</td>\n",
              "      <td>C0003</td>\n",
              "      <td>Individual</td>\n",
              "      <td>Avah</td>\n",
              "      <td>Huang</td>\n",
              "      <td>4/23/1948</td>\n",
              "      <td>F</td>\n",
              "      <td>USA</td>\n",
              "      <td>California</td>\n",
              "      <td>Personal Use</td>\n",
              "      <td>...</td>\n",
              "      <td>Website</td>\n",
              "      <td>132</td>\n",
              "      <td>1044</td>\n",
              "      <td>1</td>\n",
              "      <td>6/1/2004</td>\n",
              "      <td>Apartment</td>\n",
              "      <td>44</td>\n",
              "      <td>827.87</td>\n",
              "      <td>$229,464.71</td>\n",
              "      <td>Sold</td>\n",
              "    </tr>\n",
              "    <tr>\n",
              "      <th>3</th>\n",
              "      <td>77</td>\n",
              "      <td>C0004</td>\n",
              "      <td>Individual</td>\n",
              "      <td>Nora</td>\n",
              "      <td>Lynch</td>\n",
              "      <td>4/23/1948</td>\n",
              "      <td>F</td>\n",
              "      <td>USA</td>\n",
              "      <td>California</td>\n",
              "      <td>Personal Use</td>\n",
              "      <td>...</td>\n",
              "      <td>Website</td>\n",
              "      <td>133</td>\n",
              "      <td>1043</td>\n",
              "      <td>1</td>\n",
              "      <td>6/1/2004</td>\n",
              "      <td>Apartment</td>\n",
              "      <td>43</td>\n",
              "      <td>1160.36</td>\n",
              "      <td>$377,313.56</td>\n",
              "      <td>Sold</td>\n",
              "    </tr>\n",
              "    <tr>\n",
              "      <th>4</th>\n",
              "      <td>24</td>\n",
              "      <td>C0005</td>\n",
              "      <td>Individual</td>\n",
              "      <td>Rodolfo</td>\n",
              "      <td>Gibson</td>\n",
              "      <td>1/20/1937</td>\n",
              "      <td>M</td>\n",
              "      <td>USA</td>\n",
              "      <td>Nevada</td>\n",
              "      <td>Personal Use</td>\n",
              "      <td>...</td>\n",
              "      <td>Website</td>\n",
              "      <td>164</td>\n",
              "      <td>1033</td>\n",
              "      <td>1</td>\n",
              "      <td>8/1/2004</td>\n",
              "      <td>Apartment</td>\n",
              "      <td>33</td>\n",
              "      <td>1434.09</td>\n",
              "      <td>$412,856.56</td>\n",
              "      <td>Sold</td>\n",
              "    </tr>\n",
              "    <tr>\n",
              "      <th>...</th>\n",
              "      <td>...</td>\n",
              "      <td>...</td>\n",
              "      <td>...</td>\n",
              "      <td>...</td>\n",
              "      <td>...</td>\n",
              "      <td>...</td>\n",
              "      <td>...</td>\n",
              "      <td>...</td>\n",
              "      <td>...</td>\n",
              "      <td>...</td>\n",
              "      <td>...</td>\n",
              "      <td>...</td>\n",
              "      <td>...</td>\n",
              "      <td>...</td>\n",
              "      <td>...</td>\n",
              "      <td>...</td>\n",
              "      <td>...</td>\n",
              "      <td>...</td>\n",
              "      <td>...</td>\n",
              "      <td>...</td>\n",
              "      <td>...</td>\n",
              "    </tr>\n",
              "    <tr>\n",
              "      <th>189</th>\n",
              "      <td>4</td>\n",
              "      <td>C0174</td>\n",
              "      <td>Company</td>\n",
              "      <td>Marleez</td>\n",
              "      <td>Co</td>\n",
              "      <td>NaN</td>\n",
              "      <td>NaN</td>\n",
              "      <td>USA</td>\n",
              "      <td>California</td>\n",
              "      <td>Investment</td>\n",
              "      <td>...</td>\n",
              "      <td>Website</td>\n",
              "      <td>192</td>\n",
              "      <td>1028</td>\n",
              "      <td>1</td>\n",
              "      <td>7/1/2005</td>\n",
              "      <td>Apartment</td>\n",
              "      <td>28</td>\n",
              "      <td>1160.36</td>\n",
              "      <td>$331,154.88</td>\n",
              "      <td>Sold</td>\n",
              "    </tr>\n",
              "    <tr>\n",
              "      <th>190</th>\n",
              "      <td>4</td>\n",
              "      <td>C0174</td>\n",
              "      <td>Company</td>\n",
              "      <td>Marleez</td>\n",
              "      <td>Co</td>\n",
              "      <td>NaN</td>\n",
              "      <td>NaN</td>\n",
              "      <td>USA</td>\n",
              "      <td>California</td>\n",
              "      <td>Investment</td>\n",
              "      <td>...</td>\n",
              "      <td>Website</td>\n",
              "      <td>193</td>\n",
              "      <td>1034</td>\n",
              "      <td>1</td>\n",
              "      <td>7/1/2005</td>\n",
              "      <td>Apartment</td>\n",
              "      <td>34</td>\n",
              "      <td>625.80</td>\n",
              "      <td>$204,434.68</td>\n",
              "      <td>Sold</td>\n",
              "    </tr>\n",
              "    <tr>\n",
              "      <th>191</th>\n",
              "      <td>4</td>\n",
              "      <td>C0174</td>\n",
              "      <td>Company</td>\n",
              "      <td>Marleez</td>\n",
              "      <td>Co</td>\n",
              "      <td>NaN</td>\n",
              "      <td>NaN</td>\n",
              "      <td>USA</td>\n",
              "      <td>California</td>\n",
              "      <td>Investment</td>\n",
              "      <td>...</td>\n",
              "      <td>Website</td>\n",
              "      <td>194</td>\n",
              "      <td>1037</td>\n",
              "      <td>1</td>\n",
              "      <td>7/1/2005</td>\n",
              "      <td>Apartment</td>\n",
              "      <td>37</td>\n",
              "      <td>756.21</td>\n",
              "      <td>$189,194.31</td>\n",
              "      <td>Sold</td>\n",
              "    </tr>\n",
              "    <tr>\n",
              "      <th>192</th>\n",
              "      <td>4</td>\n",
              "      <td>C0174</td>\n",
              "      <td>Company</td>\n",
              "      <td>Marleez</td>\n",
              "      <td>Co</td>\n",
              "      <td>NaN</td>\n",
              "      <td>NaN</td>\n",
              "      <td>USA</td>\n",
              "      <td>California</td>\n",
              "      <td>Investment</td>\n",
              "      <td>...</td>\n",
              "      <td>Website</td>\n",
              "      <td>195</td>\n",
              "      <td>1042</td>\n",
              "      <td>1</td>\n",
              "      <td>7/1/2005</td>\n",
              "      <td>Apartment</td>\n",
              "      <td>42</td>\n",
              "      <td>625.80</td>\n",
              "      <td>$204,027.09</td>\n",
              "      <td>Sold</td>\n",
              "    </tr>\n",
              "    <tr>\n",
              "      <th>193</th>\n",
              "      <td>119</td>\n",
              "      <td>C0175</td>\n",
              "      <td>Individual</td>\n",
              "      <td>Madeline</td>\n",
              "      <td>Michael</td>\n",
              "      <td>7/30/1953</td>\n",
              "      <td>F</td>\n",
              "      <td>USA</td>\n",
              "      <td>California</td>\n",
              "      <td>Personal Use</td>\n",
              "      <td>...</td>\n",
              "      <td>Website</td>\n",
              "      <td>125</td>\n",
              "      <td>4029</td>\n",
              "      <td>4</td>\n",
              "      <td>11/1/2007</td>\n",
              "      <td>Apartment</td>\n",
              "      <td>29</td>\n",
              "      <td>794.52</td>\n",
              "      <td>$200,148.89</td>\n",
              "      <td>Sold</td>\n",
              "    </tr>\n",
              "  </tbody>\n",
              "</table>\n",
              "<p>194 rows × 22 columns</p>\n",
              "</div>\n",
              "    <div class=\"colab-df-buttons\">\n",
              "\n",
              "  <div class=\"colab-df-container\">\n",
              "    <button class=\"colab-df-convert\" onclick=\"convertToInteractive('df-b00f80ca-5c8a-4971-8134-5a5e5f49b3d8')\"\n",
              "            title=\"Convert this dataframe to an interactive table.\"\n",
              "            style=\"display:none;\">\n",
              "\n",
              "  <svg xmlns=\"http://www.w3.org/2000/svg\" height=\"24px\" viewBox=\"0 -960 960 960\">\n",
              "    <path d=\"M120-120v-720h720v720H120Zm60-500h600v-160H180v160Zm220 220h160v-160H400v160Zm0 220h160v-160H400v160ZM180-400h160v-160H180v160Zm440 0h160v-160H620v160ZM180-180h160v-160H180v160Zm440 0h160v-160H620v160Z\"/>\n",
              "  </svg>\n",
              "    </button>\n",
              "\n",
              "  <style>\n",
              "    .colab-df-container {\n",
              "      display:flex;\n",
              "      gap: 12px;\n",
              "    }\n",
              "\n",
              "    .colab-df-convert {\n",
              "      background-color: #E8F0FE;\n",
              "      border: none;\n",
              "      border-radius: 50%;\n",
              "      cursor: pointer;\n",
              "      display: none;\n",
              "      fill: #1967D2;\n",
              "      height: 32px;\n",
              "      padding: 0 0 0 0;\n",
              "      width: 32px;\n",
              "    }\n",
              "\n",
              "    .colab-df-convert:hover {\n",
              "      background-color: #E2EBFA;\n",
              "      box-shadow: 0px 1px 2px rgba(60, 64, 67, 0.3), 0px 1px 3px 1px rgba(60, 64, 67, 0.15);\n",
              "      fill: #174EA6;\n",
              "    }\n",
              "\n",
              "    .colab-df-buttons div {\n",
              "      margin-bottom: 4px;\n",
              "    }\n",
              "\n",
              "    [theme=dark] .colab-df-convert {\n",
              "      background-color: #3B4455;\n",
              "      fill: #D2E3FC;\n",
              "    }\n",
              "\n",
              "    [theme=dark] .colab-df-convert:hover {\n",
              "      background-color: #434B5C;\n",
              "      box-shadow: 0px 1px 3px 1px rgba(0, 0, 0, 0.15);\n",
              "      filter: drop-shadow(0px 1px 2px rgba(0, 0, 0, 0.3));\n",
              "      fill: #FFFFFF;\n",
              "    }\n",
              "  </style>\n",
              "\n",
              "    <script>\n",
              "      const buttonEl =\n",
              "        document.querySelector('#df-b00f80ca-5c8a-4971-8134-5a5e5f49b3d8 button.colab-df-convert');\n",
              "      buttonEl.style.display =\n",
              "        google.colab.kernel.accessAllowed ? 'block' : 'none';\n",
              "\n",
              "      async function convertToInteractive(key) {\n",
              "        const element = document.querySelector('#df-b00f80ca-5c8a-4971-8134-5a5e5f49b3d8');\n",
              "        const dataTable =\n",
              "          await google.colab.kernel.invokeFunction('convertToInteractive',\n",
              "                                                    [key], {});\n",
              "        if (!dataTable) return;\n",
              "\n",
              "        const docLinkHtml = 'Like what you see? Visit the ' +\n",
              "          '<a target=\"_blank\" href=https://colab.research.google.com/notebooks/data_table.ipynb>data table notebook</a>'\n",
              "          + ' to learn more about interactive tables.';\n",
              "        element.innerHTML = '';\n",
              "        dataTable['output_type'] = 'display_data';\n",
              "        await google.colab.output.renderOutput(dataTable, element);\n",
              "        const docLink = document.createElement('div');\n",
              "        docLink.innerHTML = docLinkHtml;\n",
              "        element.appendChild(docLink);\n",
              "      }\n",
              "    </script>\n",
              "  </div>\n",
              "\n",
              "\n",
              "<div id=\"df-f7a119cf-be46-4f2f-979b-3c1957d4fd63\">\n",
              "  <button class=\"colab-df-quickchart\" onclick=\"quickchart('df-f7a119cf-be46-4f2f-979b-3c1957d4fd63')\"\n",
              "            title=\"Suggest charts\"\n",
              "            style=\"display:none;\">\n",
              "\n",
              "<svg xmlns=\"http://www.w3.org/2000/svg\" height=\"24px\"viewBox=\"0 0 24 24\"\n",
              "     width=\"24px\">\n",
              "    <g>\n",
              "        <path d=\"M19 3H5c-1.1 0-2 .9-2 2v14c0 1.1.9 2 2 2h14c1.1 0 2-.9 2-2V5c0-1.1-.9-2-2-2zM9 17H7v-7h2v7zm4 0h-2V7h2v10zm4 0h-2v-4h2v4z\"/>\n",
              "    </g>\n",
              "</svg>\n",
              "  </button>\n",
              "\n",
              "<style>\n",
              "  .colab-df-quickchart {\n",
              "      --bg-color: #E8F0FE;\n",
              "      --fill-color: #1967D2;\n",
              "      --hover-bg-color: #E2EBFA;\n",
              "      --hover-fill-color: #174EA6;\n",
              "      --disabled-fill-color: #AAA;\n",
              "      --disabled-bg-color: #DDD;\n",
              "  }\n",
              "\n",
              "  [theme=dark] .colab-df-quickchart {\n",
              "      --bg-color: #3B4455;\n",
              "      --fill-color: #D2E3FC;\n",
              "      --hover-bg-color: #434B5C;\n",
              "      --hover-fill-color: #FFFFFF;\n",
              "      --disabled-bg-color: #3B4455;\n",
              "      --disabled-fill-color: #666;\n",
              "  }\n",
              "\n",
              "  .colab-df-quickchart {\n",
              "    background-color: var(--bg-color);\n",
              "    border: none;\n",
              "    border-radius: 50%;\n",
              "    cursor: pointer;\n",
              "    display: none;\n",
              "    fill: var(--fill-color);\n",
              "    height: 32px;\n",
              "    padding: 0;\n",
              "    width: 32px;\n",
              "  }\n",
              "\n",
              "  .colab-df-quickchart:hover {\n",
              "    background-color: var(--hover-bg-color);\n",
              "    box-shadow: 0 1px 2px rgba(60, 64, 67, 0.3), 0 1px 3px 1px rgba(60, 64, 67, 0.15);\n",
              "    fill: var(--button-hover-fill-color);\n",
              "  }\n",
              "\n",
              "  .colab-df-quickchart-complete:disabled,\n",
              "  .colab-df-quickchart-complete:disabled:hover {\n",
              "    background-color: var(--disabled-bg-color);\n",
              "    fill: var(--disabled-fill-color);\n",
              "    box-shadow: none;\n",
              "  }\n",
              "\n",
              "  .colab-df-spinner {\n",
              "    border: 2px solid var(--fill-color);\n",
              "    border-color: transparent;\n",
              "    border-bottom-color: var(--fill-color);\n",
              "    animation:\n",
              "      spin 1s steps(1) infinite;\n",
              "  }\n",
              "\n",
              "  @keyframes spin {\n",
              "    0% {\n",
              "      border-color: transparent;\n",
              "      border-bottom-color: var(--fill-color);\n",
              "      border-left-color: var(--fill-color);\n",
              "    }\n",
              "    20% {\n",
              "      border-color: transparent;\n",
              "      border-left-color: var(--fill-color);\n",
              "      border-top-color: var(--fill-color);\n",
              "    }\n",
              "    30% {\n",
              "      border-color: transparent;\n",
              "      border-left-color: var(--fill-color);\n",
              "      border-top-color: var(--fill-color);\n",
              "      border-right-color: var(--fill-color);\n",
              "    }\n",
              "    40% {\n",
              "      border-color: transparent;\n",
              "      border-right-color: var(--fill-color);\n",
              "      border-top-color: var(--fill-color);\n",
              "    }\n",
              "    60% {\n",
              "      border-color: transparent;\n",
              "      border-right-color: var(--fill-color);\n",
              "    }\n",
              "    80% {\n",
              "      border-color: transparent;\n",
              "      border-right-color: var(--fill-color);\n",
              "      border-bottom-color: var(--fill-color);\n",
              "    }\n",
              "    90% {\n",
              "      border-color: transparent;\n",
              "      border-bottom-color: var(--fill-color);\n",
              "    }\n",
              "  }\n",
              "</style>\n",
              "\n",
              "  <script>\n",
              "    async function quickchart(key) {\n",
              "      const quickchartButtonEl =\n",
              "        document.querySelector('#' + key + ' button');\n",
              "      quickchartButtonEl.disabled = true;  // To prevent multiple clicks.\n",
              "      quickchartButtonEl.classList.add('colab-df-spinner');\n",
              "      try {\n",
              "        const charts = await google.colab.kernel.invokeFunction(\n",
              "            'suggestCharts', [key], {});\n",
              "      } catch (error) {\n",
              "        console.error('Error during call to suggestCharts:', error);\n",
              "      }\n",
              "      quickchartButtonEl.classList.remove('colab-df-spinner');\n",
              "      quickchartButtonEl.classList.add('colab-df-quickchart-complete');\n",
              "    }\n",
              "    (() => {\n",
              "      let quickchartButtonEl =\n",
              "        document.querySelector('#df-f7a119cf-be46-4f2f-979b-3c1957d4fd63 button');\n",
              "      quickchartButtonEl.style.display =\n",
              "        google.colab.kernel.accessAllowed ? 'block' : 'none';\n",
              "    })();\n",
              "  </script>\n",
              "</div>\n",
              "\n",
              "  <div id=\"id_bea6cb12-e91d-41b2-8abc-81035b22e4da\">\n",
              "    <style>\n",
              "      .colab-df-generate {\n",
              "        background-color: #E8F0FE;\n",
              "        border: none;\n",
              "        border-radius: 50%;\n",
              "        cursor: pointer;\n",
              "        display: none;\n",
              "        fill: #1967D2;\n",
              "        height: 32px;\n",
              "        padding: 0 0 0 0;\n",
              "        width: 32px;\n",
              "      }\n",
              "\n",
              "      .colab-df-generate:hover {\n",
              "        background-color: #E2EBFA;\n",
              "        box-shadow: 0px 1px 2px rgba(60, 64, 67, 0.3), 0px 1px 3px 1px rgba(60, 64, 67, 0.15);\n",
              "        fill: #174EA6;\n",
              "      }\n",
              "\n",
              "      [theme=dark] .colab-df-generate {\n",
              "        background-color: #3B4455;\n",
              "        fill: #D2E3FC;\n",
              "      }\n",
              "\n",
              "      [theme=dark] .colab-df-generate:hover {\n",
              "        background-color: #434B5C;\n",
              "        box-shadow: 0px 1px 3px 1px rgba(0, 0, 0, 0.15);\n",
              "        filter: drop-shadow(0px 1px 2px rgba(0, 0, 0, 0.3));\n",
              "        fill: #FFFFFF;\n",
              "      }\n",
              "    </style>\n",
              "    <button class=\"colab-df-generate\" onclick=\"generateWithVariable('df')\"\n",
              "            title=\"Generate code using this dataframe.\"\n",
              "            style=\"display:none;\">\n",
              "\n",
              "  <svg xmlns=\"http://www.w3.org/2000/svg\" height=\"24px\"viewBox=\"0 0 24 24\"\n",
              "       width=\"24px\">\n",
              "    <path d=\"M7,19H8.4L18.45,9,17,7.55,7,17.6ZM5,21V16.75L18.45,3.32a2,2,0,0,1,2.83,0l1.4,1.43a1.91,1.91,0,0,1,.58,1.4,1.91,1.91,0,0,1-.58,1.4L9.25,21ZM18.45,9,17,7.55Zm-12,3A5.31,5.31,0,0,0,4.9,8.1,5.31,5.31,0,0,0,1,6.5,5.31,5.31,0,0,0,4.9,4.9,5.31,5.31,0,0,0,6.5,1,5.31,5.31,0,0,0,8.1,4.9,5.31,5.31,0,0,0,12,6.5,5.46,5.46,0,0,0,6.5,12Z\"/>\n",
              "  </svg>\n",
              "    </button>\n",
              "    <script>\n",
              "      (() => {\n",
              "      const buttonEl =\n",
              "        document.querySelector('#id_bea6cb12-e91d-41b2-8abc-81035b22e4da button.colab-df-generate');\n",
              "      buttonEl.style.display =\n",
              "        google.colab.kernel.accessAllowed ? 'block' : 'none';\n",
              "\n",
              "      buttonEl.onclick = () => {\n",
              "        google.colab.notebook.generateWithVariable('df');\n",
              "      }\n",
              "      })();\n",
              "    </script>\n",
              "  </div>\n",
              "\n",
              "    </div>\n",
              "  </div>\n"
            ],
            "application/vnd.google.colaboratory.intrinsic+json": {
              "type": "dataframe",
              "variable_name": "df"
            }
          },
          "metadata": {},
          "execution_count": 9
        }
      ]
    },
    {
      "cell_type": "markdown",
      "id": "70b2f839-f99c-4739-9ed8-a6dc99c3f512",
      "metadata": {
        "id": "70b2f839-f99c-4739-9ed8-a6dc99c3f512",
        "jp-MarkdownHeadingCollapsed": true,
        "tags": []
      },
      "source": [
        "### <div style=\"color:white; background-color:#666; padding: 8px; border-radius: 5px\">**Variable Names**</div>"
      ]
    },
    {
      "cell_type": "markdown",
      "id": "2a07ff5f-9f87-4fc3-9b01-062f6a675dae",
      "metadata": {
        "id": "2a07ff5f-9f87-4fc3-9b01-062f6a675dae"
      },
      "source": [
        "Column names provide a clear identification of the data contained within each column. By reviewing the column names, we can quickly understand the type of information stored in each column. This helps we make sense of the data and interpret it correctly."
      ]
    },
    {
      "cell_type": "code",
      "execution_count": null,
      "id": "41991ab8-a5e7-4207-85ec-9b0a49a91438",
      "metadata": {
        "colab": {
          "base_uri": "https://localhost:8080/"
        },
        "id": "41991ab8-a5e7-4207-85ec-9b0a49a91438",
        "outputId": "eb2558f3-44c0-4268-eedf-32cc6c8e483b"
      },
      "outputs": [
        {
          "output_type": "execute_result",
          "data": {
            "text/plain": [
              "Index(['Unnamed: 0_x', 'CustomerID', 'entity', 'name', 'surname', 'birth_date',\n",
              "       'sex', 'country', 'state', 'purpose', 'deal_satisfaction', 'mortgage',\n",
              "       'source', 'Unnamed: 0_y', 'homeid', 'building', 'date_sale', 'type',\n",
              "       'property#', 'area', 'price', 'status'],\n",
              "      dtype='object')"
            ]
          },
          "metadata": {},
          "execution_count": 10
        }
      ],
      "source": [
        "df.columns"
      ]
    },
    {
      "cell_type": "markdown",
      "id": "7bff8b4a",
      "metadata": {
        "id": "7bff8b4a"
      },
      "source": [
        "We don't need some columns and we remove them."
      ]
    },
    {
      "cell_type": "code",
      "execution_count": null,
      "id": "745e8d20",
      "metadata": {
        "id": "745e8d20"
      },
      "outputs": [],
      "source": [
        "df = df.drop(['Unnamed: 0_x', 'entity', 'name', 'surname', 'state', 'Unnamed: 0_y', 'building','property#', 'status'] , axis=1)"
      ]
    },
    {
      "cell_type": "code",
      "execution_count": null,
      "id": "33bdf62c",
      "metadata": {
        "id": "33bdf62c"
      },
      "outputs": [],
      "source": [
        "col_names = {\n",
        "    'CustomerID':'CustomerID',\n",
        "    'birth_date' : 'DoB',\n",
        "    'sex' : 'Gender',\n",
        "    'country' : 'Country',\n",
        "    'purpose' : 'Purpose',\n",
        "    'deal_satisfaction' : 'Satisfaction',\n",
        "    'mortgage' : 'Mortgage',\n",
        "    'source' : 'Source',\n",
        "    'homeid' : 'PropertyID',\n",
        "    'date_sale' : 'Date',\n",
        "    'type' : 'Type',\n",
        "    'area' : 'Area',\n",
        "    'price' : 'Price',\n",
        "}\n",
        "\n",
        "df = df.rename(columns = col_names)"
      ]
    },
    {
      "cell_type": "markdown",
      "id": "fe82b9bb-759c-4ba9-8e1a-08d97e93a149",
      "metadata": {
        "id": "fe82b9bb-759c-4ba9-8e1a-08d97e93a149"
      },
      "source": [
        "Now, we change the order of the columns to have better view on them."
      ]
    },
    {
      "cell_type": "code",
      "execution_count": null,
      "id": "a3666450",
      "metadata": {
        "id": "a3666450"
      },
      "outputs": [],
      "source": [
        "col_order = ['CustomerID', 'DoB', 'Gender', 'Country', 'Purpose', 'Mortgage', 'Source', 'PropertyID', 'Type',\n",
        "            'Area','Price','Satisfaction', 'Date']\n",
        "\n",
        "df = df[col_order]"
      ]
    },
    {
      "cell_type": "code",
      "execution_count": null,
      "id": "87e6d2d1",
      "metadata": {
        "colab": {
          "base_uri": "https://localhost:8080/",
          "height": 81
        },
        "id": "87e6d2d1",
        "outputId": "df454a86-97cf-4f22-bd84-759d379e29e0"
      },
      "outputs": [
        {
          "output_type": "execute_result",
          "data": {
            "text/plain": [
              "  CustomerID  DoB Gender Country     Purpose Mortgage  Source  PropertyID  \\\n",
              "0      C0001  NaN    NaN     USA  Investment       No  Agency        1005   \n",
              "\n",
              "     Type    Area         Price  Satisfaction      Date  \n",
              "0  Office  410.71  $117,564.07              5  3/1/2004  "
            ],
            "text/html": [
              "\n",
              "  <div id=\"df-9013781c-d6ac-4aae-a7c8-b02937451e61\" class=\"colab-df-container\">\n",
              "    <div>\n",
              "<style scoped>\n",
              "    .dataframe tbody tr th:only-of-type {\n",
              "        vertical-align: middle;\n",
              "    }\n",
              "\n",
              "    .dataframe tbody tr th {\n",
              "        vertical-align: top;\n",
              "    }\n",
              "\n",
              "    .dataframe thead th {\n",
              "        text-align: right;\n",
              "    }\n",
              "</style>\n",
              "<table border=\"1\" class=\"dataframe\">\n",
              "  <thead>\n",
              "    <tr style=\"text-align: right;\">\n",
              "      <th></th>\n",
              "      <th>CustomerID</th>\n",
              "      <th>DoB</th>\n",
              "      <th>Gender</th>\n",
              "      <th>Country</th>\n",
              "      <th>Purpose</th>\n",
              "      <th>Mortgage</th>\n",
              "      <th>Source</th>\n",
              "      <th>PropertyID</th>\n",
              "      <th>Type</th>\n",
              "      <th>Area</th>\n",
              "      <th>Price</th>\n",
              "      <th>Satisfaction</th>\n",
              "      <th>Date</th>\n",
              "    </tr>\n",
              "  </thead>\n",
              "  <tbody>\n",
              "    <tr>\n",
              "      <th>0</th>\n",
              "      <td>C0001</td>\n",
              "      <td>NaN</td>\n",
              "      <td>NaN</td>\n",
              "      <td>USA</td>\n",
              "      <td>Investment</td>\n",
              "      <td>No</td>\n",
              "      <td>Agency</td>\n",
              "      <td>1005</td>\n",
              "      <td>Office</td>\n",
              "      <td>410.71</td>\n",
              "      <td>$117,564.07</td>\n",
              "      <td>5</td>\n",
              "      <td>3/1/2004</td>\n",
              "    </tr>\n",
              "  </tbody>\n",
              "</table>\n",
              "</div>\n",
              "    <div class=\"colab-df-buttons\">\n",
              "\n",
              "  <div class=\"colab-df-container\">\n",
              "    <button class=\"colab-df-convert\" onclick=\"convertToInteractive('df-9013781c-d6ac-4aae-a7c8-b02937451e61')\"\n",
              "            title=\"Convert this dataframe to an interactive table.\"\n",
              "            style=\"display:none;\">\n",
              "\n",
              "  <svg xmlns=\"http://www.w3.org/2000/svg\" height=\"24px\" viewBox=\"0 -960 960 960\">\n",
              "    <path d=\"M120-120v-720h720v720H120Zm60-500h600v-160H180v160Zm220 220h160v-160H400v160Zm0 220h160v-160H400v160ZM180-400h160v-160H180v160Zm440 0h160v-160H620v160ZM180-180h160v-160H180v160Zm440 0h160v-160H620v160Z\"/>\n",
              "  </svg>\n",
              "    </button>\n",
              "\n",
              "  <style>\n",
              "    .colab-df-container {\n",
              "      display:flex;\n",
              "      gap: 12px;\n",
              "    }\n",
              "\n",
              "    .colab-df-convert {\n",
              "      background-color: #E8F0FE;\n",
              "      border: none;\n",
              "      border-radius: 50%;\n",
              "      cursor: pointer;\n",
              "      display: none;\n",
              "      fill: #1967D2;\n",
              "      height: 32px;\n",
              "      padding: 0 0 0 0;\n",
              "      width: 32px;\n",
              "    }\n",
              "\n",
              "    .colab-df-convert:hover {\n",
              "      background-color: #E2EBFA;\n",
              "      box-shadow: 0px 1px 2px rgba(60, 64, 67, 0.3), 0px 1px 3px 1px rgba(60, 64, 67, 0.15);\n",
              "      fill: #174EA6;\n",
              "    }\n",
              "\n",
              "    .colab-df-buttons div {\n",
              "      margin-bottom: 4px;\n",
              "    }\n",
              "\n",
              "    [theme=dark] .colab-df-convert {\n",
              "      background-color: #3B4455;\n",
              "      fill: #D2E3FC;\n",
              "    }\n",
              "\n",
              "    [theme=dark] .colab-df-convert:hover {\n",
              "      background-color: #434B5C;\n",
              "      box-shadow: 0px 1px 3px 1px rgba(0, 0, 0, 0.15);\n",
              "      filter: drop-shadow(0px 1px 2px rgba(0, 0, 0, 0.3));\n",
              "      fill: #FFFFFF;\n",
              "    }\n",
              "  </style>\n",
              "\n",
              "    <script>\n",
              "      const buttonEl =\n",
              "        document.querySelector('#df-9013781c-d6ac-4aae-a7c8-b02937451e61 button.colab-df-convert');\n",
              "      buttonEl.style.display =\n",
              "        google.colab.kernel.accessAllowed ? 'block' : 'none';\n",
              "\n",
              "      async function convertToInteractive(key) {\n",
              "        const element = document.querySelector('#df-9013781c-d6ac-4aae-a7c8-b02937451e61');\n",
              "        const dataTable =\n",
              "          await google.colab.kernel.invokeFunction('convertToInteractive',\n",
              "                                                    [key], {});\n",
              "        if (!dataTable) return;\n",
              "\n",
              "        const docLinkHtml = 'Like what you see? Visit the ' +\n",
              "          '<a target=\"_blank\" href=https://colab.research.google.com/notebooks/data_table.ipynb>data table notebook</a>'\n",
              "          + ' to learn more about interactive tables.';\n",
              "        element.innerHTML = '';\n",
              "        dataTable['output_type'] = 'display_data';\n",
              "        await google.colab.output.renderOutput(dataTable, element);\n",
              "        const docLink = document.createElement('div');\n",
              "        docLink.innerHTML = docLinkHtml;\n",
              "        element.appendChild(docLink);\n",
              "      }\n",
              "    </script>\n",
              "  </div>\n",
              "\n",
              "\n",
              "    </div>\n",
              "  </div>\n"
            ],
            "application/vnd.google.colaboratory.intrinsic+json": {
              "type": "dataframe",
              "variable_name": "df",
              "summary": "{\n  \"name\": \"df\",\n  \"rows\": 194,\n  \"fields\": [\n    {\n      \"column\": \"CustomerID\",\n      \"properties\": {\n        \"dtype\": \"string\",\n        \"num_unique_values\": 162,\n        \"samples\": [\n          \"C0171\",\n          \"C0118\",\n          \"C0140\"\n        ],\n        \"semantic_type\": \"\",\n        \"description\": \"\"\n      }\n    },\n    {\n      \"column\": \"DoB\",\n      \"properties\": {\n        \"dtype\": \"date\",\n        \"min\": \"1931-02-13 00:00:00\",\n        \"max\": \"1986-06-21 00:00:00\",\n        \"num_unique_values\": 151,\n        \"samples\": [\n          \"7/17/1973\",\n          \"4/13/1967\",\n          \"4/20/1959\"\n        ],\n        \"semantic_type\": \"\",\n        \"description\": \"\"\n      }\n    },\n    {\n      \"column\": \"Gender\",\n      \"properties\": {\n        \"dtype\": \"category\",\n        \"num_unique_values\": 2,\n        \"samples\": [\n          \"F\",\n          \"M\"\n        ],\n        \"semantic_type\": \"\",\n        \"description\": \"\"\n      }\n    },\n    {\n      \"column\": \"Country\",\n      \"properties\": {\n        \"dtype\": \"category\",\n        \"num_unique_values\": 9,\n        \"samples\": [\n          \"UK\",\n          \"Belgium\"\n        ],\n        \"semantic_type\": \"\",\n        \"description\": \"\"\n      }\n    },\n    {\n      \"column\": \"Purpose\",\n      \"properties\": {\n        \"dtype\": \"category\",\n        \"num_unique_values\": 2,\n        \"samples\": [\n          \"Personal Use\",\n          \"Investment\"\n        ],\n        \"semantic_type\": \"\",\n        \"description\": \"\"\n      }\n    },\n    {\n      \"column\": \"Mortgage\",\n      \"properties\": {\n        \"dtype\": \"category\",\n        \"num_unique_values\": 2,\n        \"samples\": [\n          \"Yes\",\n          \"No\"\n        ],\n        \"semantic_type\": \"\",\n        \"description\": \"\"\n      }\n    },\n    {\n      \"column\": \"Source\",\n      \"properties\": {\n        \"dtype\": \"category\",\n        \"num_unique_values\": 3,\n        \"samples\": [\n          \"Agency\",\n          \"Website\"\n        ],\n        \"semantic_type\": \"\",\n        \"description\": \"\"\n      }\n    },\n    {\n      \"column\": \"PropertyID\",\n      \"properties\": {\n        \"dtype\": \"number\",\n        \"std\": 1242,\n        \"min\": 1002,\n        \"max\": 5051,\n        \"num_unique_values\": 194,\n        \"samples\": [\n          3033,\n          1041\n        ],\n        \"semantic_type\": \"\",\n        \"description\": \"\"\n      }\n    },\n    {\n      \"column\": \"Type\",\n      \"properties\": {\n        \"dtype\": \"category\",\n        \"num_unique_values\": 2,\n        \"samples\": [\n          \"Apartment\",\n          \"Office\"\n        ],\n        \"semantic_type\": \"\",\n        \"description\": \"\"\n      }\n    },\n    {\n      \"column\": \"Area\",\n      \"properties\": {\n        \"dtype\": \"number\",\n        \"std\": 262.06892245082616,\n        \"min\": 410.71,\n        \"max\": 1942.5,\n        \"num_unique_values\": 74,\n        \"samples\": [\n          1434.09,\n          680.57\n        ],\n        \"semantic_type\": \"\",\n        \"description\": \"\"\n      }\n    },\n    {\n      \"column\": \"Price\",\n      \"properties\": {\n        \"dtype\": \"string\",\n        \"num_unique_values\": 193,\n        \"samples\": [\n          \"$257,183.48 \",\n          \"$200,300.63 \"\n        ],\n        \"semantic_type\": \"\",\n        \"description\": \"\"\n      }\n    },\n    {\n      \"column\": \"Satisfaction\",\n      \"properties\": {\n        \"dtype\": \"number\",\n        \"std\": 1,\n        \"min\": 1,\n        \"max\": 5,\n        \"num_unique_values\": 5,\n        \"samples\": [\n          2,\n          1\n        ],\n        \"semantic_type\": \"\",\n        \"description\": \"\"\n      }\n    },\n    {\n      \"column\": \"Date\",\n      \"properties\": {\n        \"dtype\": \"object\",\n        \"num_unique_values\": 43,\n        \"samples\": [\n          \"9/1/2007\",\n          \"8/1/2007\"\n        ],\n        \"semantic_type\": \"\",\n        \"description\": \"\"\n      }\n    }\n  ]\n}"
            }
          },
          "metadata": {},
          "execution_count": 14
        }
      ],
      "source": [
        "df.head(1)"
      ]
    },
    {
      "cell_type": "markdown",
      "id": "89665c91",
      "metadata": {
        "id": "89665c91",
        "jp-MarkdownHeadingCollapsed": true,
        "tags": []
      },
      "source": [
        "### <div style=\"color:white; background-color:#666; padding: 8px; border-radius: 5px\">**Data Type Conversion**</div>"
      ]
    },
    {
      "cell_type": "markdown",
      "id": "b84c2ed5-a2a6-4b92-927a-4b349d3d0df2",
      "metadata": {
        "id": "b84c2ed5-a2a6-4b92-927a-4b349d3d0df2"
      },
      "source": [
        "Checking the data types is an important step in data cleaning because it helps ensure the consistency, accuracy, and reliability of the data."
      ]
    },
    {
      "cell_type": "code",
      "execution_count": null,
      "id": "9500f601-c7b5-462e-942b-1c29cf3794ca",
      "metadata": {
        "colab": {
          "base_uri": "https://localhost:8080/"
        },
        "id": "9500f601-c7b5-462e-942b-1c29cf3794ca",
        "outputId": "413cfe38-6c0b-49a8-f8d2-cf596e5de6e2"
      },
      "outputs": [
        {
          "output_type": "execute_result",
          "data": {
            "text/plain": [
              "CustomerID       object\n",
              "DoB              object\n",
              "Gender           object\n",
              "Country          object\n",
              "Purpose          object\n",
              "Mortgage         object\n",
              "Source           object\n",
              "PropertyID        int64\n",
              "Type             object\n",
              "Area            float64\n",
              "Price            object\n",
              "Satisfaction      int64\n",
              "Date             object\n",
              "dtype: object"
            ]
          },
          "metadata": {},
          "execution_count": 15
        }
      ],
      "source": [
        "df.dtypes"
      ]
    },
    {
      "cell_type": "markdown",
      "id": "a1f68761-0019-4afe-a65f-a495c0864781",
      "metadata": {
        "id": "a1f68761-0019-4afe-a65f-a495c0864781"
      },
      "source": [
        "We must check whether the data type of variables is correct or not.\n",
        "* `CustomerID`: String *(Object)*\n",
        "* `DoB`: Date *(Object)*\n",
        "* `Gender`: Nominal Categorical *(Object)*\n",
        "* `Country`: Nominal Categorical *(Object)*\n",
        "* `Purpose`: Nominal Categorical *(Object)*\n",
        "* `Mortgage`: Nominal Categorical *(Object)*\n",
        "* `Source`: Nominal Categorical *(Object)*\n",
        "* `PropertyID`: String *(Object)*\n",
        "* `Type`: Nominal Categorical *(Object)*\n",
        "* `Area`: Number *(float64-int64)*\n",
        "* `Date`: Date *(Object)*\n",
        "* `Price`: Number *(float64-int64)*\n",
        "* `Satisfaction`: Ordinal Categorical *(Object)*"
      ]
    },
    {
      "cell_type": "markdown",
      "id": "98718e97",
      "metadata": {
        "id": "98718e97"
      },
      "source": [
        "Based on the above, we have to change data type:\n",
        " <li>`PropertyID` from <span style=\"color:white; background-color:red\">int64</span> to <span style=\"color:white; background-color:blue\">object</span>\n",
        " <li>`Price` from <span style=\"color:white; background-color:red\">object</span> to <span style=\"color:white; background-color:blue\">int64</span>\n",
        " <li>`Satisfaction` from <span style=\"color:white; background-color:red\">int64</span> to <span style=\"color:white; background-color:blue\">object</span>\n",
        "  <li>`DoB` & `Date` from <span style=\"color:white; background-color:red\">object</span> to <span style=\"color:white; background-color:blue\">date</span>"
      ]
    },
    {
      "cell_type": "code",
      "execution_count": null,
      "id": "a16bb000",
      "metadata": {
        "colab": {
          "base_uri": "https://localhost:8080/"
        },
        "id": "a16bb000",
        "outputId": "19bae6c4-8014-4089-d5f3-f56615da142a"
      },
      "outputs": [
        {
          "output_type": "execute_result",
          "data": {
            "text/plain": [
              "array([1005, 1002, 1044, 1043, 1033, 1038, 1018, 1021, 1036, 1045, 1035,\n",
              "       1009, 1015, 1049, 1032, 1017, 1041, 1025, 1026, 1012, 1023, 1003,\n",
              "       1006, 1027, 1011, 1029, 1030, 1007, 1008, 2023, 2030, 1016, 1040,\n",
              "       1031, 1039, 1024, 2054, 2041, 2032, 3027, 1046, 2007, 2039, 2057,\n",
              "       2037, 2005, 2050, 2026, 2015, 2033, 3015, 2029, 3007, 3030, 2020,\n",
              "       2040, 2038, 2042, 4035, 4022, 3050, 2010, 2036, 2049, 2003, 2004,\n",
              "       2006, 2044, 2022, 2011, 2047, 2014, 3001, 3043, 2025, 2018, 2009,\n",
              "       2017, 2013, 3047, 2046, 2016, 2008, 2019, 2021, 2027, 2052, 3006,\n",
              "       3044, 4025, 3031, 2048, 2028, 2043, 3049, 3034, 5033, 5035, 5039,\n",
              "       2056, 2012, 3016, 3020, 3029, 5030, 3038, 3039, 3022, 3054, 3055,\n",
              "       4031, 2035, 3008, 3040, 3025, 5016, 5019, 3059, 2034, 3021, 4051,\n",
              "       3014, 2002, 3028, 3042, 3002, 3004, 3032, 3013, 3010, 3018, 2001,\n",
              "       3046, 2051, 3019, 3011, 3026, 3005, 3033, 5013, 3012, 3048, 2024,\n",
              "       4034, 3036, 4019, 5034, 4041, 4024, 4010, 4011, 4016, 5041, 5050,\n",
              "       3003, 4005, 5027, 5028, 5021, 5022, 5025, 5046, 3009, 4012, 4006,\n",
              "       4030, 4018, 5036, 3035, 5040, 4028, 4040, 1047, 2031, 3017, 3037,\n",
              "       3053, 3041, 3023, 4049, 4013, 4023, 5051, 3052, 1013, 1014, 1019,\n",
              "       1020, 1022, 1028, 1034, 1037, 1042, 4029])"
            ]
          },
          "metadata": {},
          "execution_count": 16
        }
      ],
      "source": [
        "df['PropertyID'].unique()"
      ]
    },
    {
      "cell_type": "code",
      "execution_count": null,
      "id": "1db91225",
      "metadata": {
        "colab": {
          "base_uri": "https://localhost:8080/"
        },
        "id": "1db91225",
        "outputId": "0b6756e1-34c5-45ab-cc0f-1b7194b4e50b"
      },
      "outputs": [
        {
          "output_type": "stream",
          "name": "stdout",
          "text": [
            "object\n"
          ]
        }
      ],
      "source": [
        "df['PropertyID'] = df['PropertyID'].astype('object')\n",
        "print(df['PropertyID'].dtype)"
      ]
    },
    {
      "cell_type": "code",
      "execution_count": null,
      "id": "72077751",
      "metadata": {
        "colab": {
          "base_uri": "https://localhost:8080/"
        },
        "id": "72077751",
        "outputId": "89ed439e-39b2-400c-9c00-ae3d830548d4"
      },
      "outputs": [
        {
          "output_type": "execute_result",
          "data": {
            "text/plain": [
              "array([5, 2, 3, 4, 1])"
            ]
          },
          "metadata": {},
          "execution_count": 18
        }
      ],
      "source": [
        "df['Satisfaction'].unique()"
      ]
    },
    {
      "cell_type": "code",
      "execution_count": null,
      "id": "52b1f28b",
      "metadata": {
        "colab": {
          "base_uri": "https://localhost:8080/"
        },
        "id": "52b1f28b",
        "outputId": "eff909d4-b068-45cc-cb11-d698330acbf4"
      },
      "outputs": [
        {
          "output_type": "stream",
          "name": "stdout",
          "text": [
            "object\n"
          ]
        }
      ],
      "source": [
        "df['Satisfaction'] = df['Satisfaction'].astype('object')\n",
        "print(df['Satisfaction'].dtype)"
      ]
    },
    {
      "cell_type": "code",
      "execution_count": null,
      "id": "2d40ef77",
      "metadata": {
        "colab": {
          "base_uri": "https://localhost:8080/"
        },
        "id": "2d40ef77",
        "outputId": "b88c4aee-a79c-44f5-a850-07c40252403f"
      },
      "outputs": [
        {
          "output_type": "execute_result",
          "data": {
            "text/plain": [
              "array(['$117,564.07 ', '$410,932.67 ', '$229,464.71 ', '$377,313.56 ',\n",
              "       '$412,856.56 ', '$207,581.43 ', '$191,389.87 ', '$218,585.92 ',\n",
              "       '$317,473.86 ', '$248,525.12 ', '$238,811.06 ', '$317,196.40 ',\n",
              "       '$208,930.81 ', '$467,083.31 ', '$215,410.28 ', '$432,679.91 ',\n",
              "       '$480,545.81 ', '$382,041.13 ', '$179,674.08 ', '$300,385.62 ',\n",
              "       '$261,579.89 ', '$193,660.62 ', '$198,841.70 ', '$276,759.18 ',\n",
              "       '$222,947.21 ', '$246,331.90 ', '$246,172.68 ', '$250,312.53 ',\n",
              "       '$246,050.40 ', '$219,373.41 ', '$214,341.34 ', '$224,076.84 ',\n",
              "       '$234,172.39 ', '$265,467.68 ', '$196,220.05 ', '$235,762.34 ',\n",
              "       '$306,363.64 ', '$225,050.52 ', '$306,878.46 ', '$245,572.79 ',\n",
              "       '$503,790.23 ', '$196,142.19 ', '$293,876.27 ', '$382,277.15 ',\n",
              "       '$229,581.78 ', '$257,183.48 ', '$297,008.97 ', '$198,075.99 ',\n",
              "       '$228,170.03 ', '$205,085.40 ', '$207,281.59 ', '$310,223.29 ',\n",
              "       '$231,552.33 ', '$215,774.28 ', '$241,671.52 ', '$224,463.87 ',\n",
              "       '$529,317.28 ', '$220,606.28 ', '$217,786.38 ', '$263,790.81 ',\n",
              "       '$248,274.31 ', '$326,885.34 ', '$460,001.26 ', '$323,915.81 ',\n",
              "       '$289,727.99 ', '$168,834.04 ', '$396,973.83 ', '$250,773.15 ',\n",
              "       '$344,568.74 ', '$225,401.62 ', '$214,631.68 ', '$336,695.25 ',\n",
              "       '$171,262.65 ', '$299,159.14 ', '$315,733.15 ', '$275,394.25 ',\n",
              "       '$237,060.15 ', '$199,054.20 ', '$236,639.56 ', '$188,273.73 ',\n",
              "       '$253,831.02 ', '$212,265.67 ', '$204,286.67 ', '$177,555.06 ',\n",
              "       '$217,748.48 ', '$247,739.44 ', '$484,458.03 ', '$356,506.37 ',\n",
              "       '$197,869.36 ', '$236,608.95 ', '$407,214.29 ', '$220,865.00 ',\n",
              "       '$195,153.16 ', '$355,073.40 ', '$338,181.18 ', '$256,821.64 ',\n",
              "       '$240,539.35 ', '$261,742.74 ', '$195,874.94 ', '$237,207.68 ',\n",
              "       '$226,342.80 ', '$258,572.48 ', '$310,831.21 ', '$357,538.20 ',\n",
              "       '$464,549.19 ', '$312,211.14 ', '$354,553.23 ', '$200,719.02 ',\n",
              "       '$380,809.52 ', '$200,678.75 ', '$192,092.24 ', '$219,865.76 ',\n",
              "       '$204,292.49 ', '$296,483.14 ', '$278,575.87 ', '$153,466.71 ',\n",
              "       '$367,976.46 ', '$252,927.84 ', '$225,290.22 ', '$496,266.41 ',\n",
              "       '$346,906.89 ', '$209,280.91 ', '$206,631.81 ', '$213,942.56 ',\n",
              "       '$261,871.70 ', '$210,038.70 ', '$242,740.66 ', '$253,025.78 ',\n",
              "       '$294,807.65 ', '$293,828.69 ', '$169,158.29 ', '$252,185.99 ',\n",
              "       '$376,964.62 ', '$230,154.53 ', '$203,491.85 ', '$212,520.83 ',\n",
              "       '$258,015.61 ', '$200,300.63 ', '$188,743.11 ', '$210,824.06 ',\n",
              "       '$249,075.66 ', '$456,919.46 ', '$243,052.59 ', '$358,525.59 ',\n",
              "       '$226,578.51 ', '$252,053.03 ', '$402,081.80 ', '$372,001.70 ',\n",
              "       '$223,917.34 ', '$201,518.89 ', '$244,820.67 ', '$263,123.42 ',\n",
              "       '$390,494.27 ', '$233,142.80 ', '$344,530.89 ', '$269,075.30 ',\n",
              "       '$223,577.32 ', '$234,750.59 ', '$287,466.41 ', '$165,430.28 ',\n",
              "       '$230,216.22 ', '$222,867.42 ', '$290,031.26 ', '$222,138.72 ',\n",
              "       '$310,577.04 ', '$310,832.59 ', '$286,433.57 ', '$269,278.57 ',\n",
              "       '$228,410.05 ', '$248,422.66 ', '$241,620.48 ', '$448,134.27 ',\n",
              "       '$452,667.01 ', '$205,098.21 ', '$204,808.16 ', '$190,119.50 ',\n",
              "       '$239,248.75 ', '$198,591.85 ', '$388,515.14 ', '$197,053.51 ',\n",
              "       '$235,633.26 ', '$249,591.99 ', '$291,494.36 ', '$206,958.71 ',\n",
              "       '$206,445.42 ', '$239,341.58 ', '$398,903.42 ', '$210,745.17 ',\n",
              "       '$331,154.88 ', '$204,434.68 ', '$189,194.31 ', '$204,027.09 ',\n",
              "       '$200,148.89 '], dtype=object)"
            ]
          },
          "metadata": {},
          "execution_count": 20
        }
      ],
      "source": [
        "df['Price'].unique()"
      ]
    },
    {
      "cell_type": "code",
      "execution_count": null,
      "id": "91067fb1",
      "metadata": {
        "id": "91067fb1"
      },
      "outputs": [],
      "source": [
        "df['Price'] = pd.to_numeric(df['Price'].str.replace('[\\$,]' , '', regex=True), errors='coerce')"
      ]
    },
    {
      "cell_type": "code",
      "source": [
        "df['Price'].dtype"
      ],
      "metadata": {
        "colab": {
          "base_uri": "https://localhost:8080/"
        },
        "id": "l6FrKVRjtncT",
        "outputId": "fd988e38-9b42-41e5-c866-7aa8b4a8f62a"
      },
      "id": "l6FrKVRjtncT",
      "execution_count": null,
      "outputs": [
        {
          "output_type": "execute_result",
          "data": {
            "text/plain": [
              "dtype('float64')"
            ]
          },
          "metadata": {},
          "execution_count": 22
        }
      ]
    },
    {
      "cell_type": "code",
      "source": [
        "df['DoB'] = df['DoB'].astype('datetime64[ns]')\n",
        "df['Date'] = df['Date'].astype('datetime64[ns]')"
      ],
      "metadata": {
        "id": "YHsr48FbtIeG"
      },
      "id": "YHsr48FbtIeG",
      "execution_count": null,
      "outputs": []
    },
    {
      "cell_type": "markdown",
      "id": "dab2c3c9",
      "metadata": {
        "id": "dab2c3c9",
        "jp-MarkdownHeadingCollapsed": true,
        "tags": []
      },
      "source": [
        "### <div style=\"color:white; background-color:#666; padding: 8px; border-radius: 5px\">**Handle Missing Values**</div>"
      ]
    },
    {
      "cell_type": "markdown",
      "id": "ff611560-eee6-428e-8a1c-de852b123e0c",
      "metadata": {
        "id": "ff611560-eee6-428e-8a1c-de852b123e0c"
      },
      "source": [
        "Checking for missing values is an important step in data cleaning because missing values can have a significant impact on the quality and reliability of the data analysis. In this dataset, we must handle missing values, because we want to construct ML model and having null values in ML model would cause to have inaccurate prediction. First, we create a function to see how many missing valus we have."
      ]
    },
    {
      "cell_type": "code",
      "execution_count": null,
      "id": "6c1cf870",
      "metadata": {
        "id": "6c1cf870"
      },
      "outputs": [],
      "source": [
        "def null(df):\n",
        "    null_values = pd.DataFrame(df.isnull().sum())\n",
        "    null_values[1] = null_values[0]/len(df)\n",
        "    null_values.columns=['count','%pct']\n",
        "    filtered_null = null_values[null_values['%pct']>0]\n",
        "    return filtered_null"
      ]
    },
    {
      "cell_type": "code",
      "source": [
        "df.isnull().sum()"
      ],
      "metadata": {
        "colab": {
          "base_uri": "https://localhost:8080/"
        },
        "id": "Iww4Go80d6lo",
        "outputId": "44e616e4-9dcd-4bc1-acea-717b33ca87fb"
      },
      "id": "Iww4Go80d6lo",
      "execution_count": null,
      "outputs": [
        {
          "output_type": "execute_result",
          "data": {
            "text/plain": [
              "CustomerID       0\n",
              "DoB             16\n",
              "Gender          16\n",
              "Country          0\n",
              "Purpose          0\n",
              "Mortgage         0\n",
              "Source           0\n",
              "PropertyID       0\n",
              "Type             0\n",
              "Area             0\n",
              "Price            0\n",
              "Satisfaction     0\n",
              "Date             0\n",
              "dtype: int64"
            ]
          },
          "metadata": {},
          "execution_count": 25
        }
      ]
    },
    {
      "cell_type": "code",
      "execution_count": null,
      "id": "0951df68",
      "metadata": {
        "colab": {
          "base_uri": "https://localhost:8080/",
          "height": 112
        },
        "id": "0951df68",
        "outputId": "bcceb63d-739b-42ea-c10d-8f383bf8e93e"
      },
      "outputs": [
        {
          "output_type": "execute_result",
          "data": {
            "text/plain": [
              "        count      %pct\n",
              "DoB        16  0.082474\n",
              "Gender     16  0.082474"
            ],
            "text/html": [
              "\n",
              "  <div id=\"df-284d2232-6f0d-4c05-8b8c-2da82f8f83cf\" class=\"colab-df-container\">\n",
              "    <div>\n",
              "<style scoped>\n",
              "    .dataframe tbody tr th:only-of-type {\n",
              "        vertical-align: middle;\n",
              "    }\n",
              "\n",
              "    .dataframe tbody tr th {\n",
              "        vertical-align: top;\n",
              "    }\n",
              "\n",
              "    .dataframe thead th {\n",
              "        text-align: right;\n",
              "    }\n",
              "</style>\n",
              "<table border=\"1\" class=\"dataframe\">\n",
              "  <thead>\n",
              "    <tr style=\"text-align: right;\">\n",
              "      <th></th>\n",
              "      <th>count</th>\n",
              "      <th>%pct</th>\n",
              "    </tr>\n",
              "  </thead>\n",
              "  <tbody>\n",
              "    <tr>\n",
              "      <th>DoB</th>\n",
              "      <td>16</td>\n",
              "      <td>0.082474</td>\n",
              "    </tr>\n",
              "    <tr>\n",
              "      <th>Gender</th>\n",
              "      <td>16</td>\n",
              "      <td>0.082474</td>\n",
              "    </tr>\n",
              "  </tbody>\n",
              "</table>\n",
              "</div>\n",
              "    <div class=\"colab-df-buttons\">\n",
              "\n",
              "  <div class=\"colab-df-container\">\n",
              "    <button class=\"colab-df-convert\" onclick=\"convertToInteractive('df-284d2232-6f0d-4c05-8b8c-2da82f8f83cf')\"\n",
              "            title=\"Convert this dataframe to an interactive table.\"\n",
              "            style=\"display:none;\">\n",
              "\n",
              "  <svg xmlns=\"http://www.w3.org/2000/svg\" height=\"24px\" viewBox=\"0 -960 960 960\">\n",
              "    <path d=\"M120-120v-720h720v720H120Zm60-500h600v-160H180v160Zm220 220h160v-160H400v160Zm0 220h160v-160H400v160ZM180-400h160v-160H180v160Zm440 0h160v-160H620v160ZM180-180h160v-160H180v160Zm440 0h160v-160H620v160Z\"/>\n",
              "  </svg>\n",
              "    </button>\n",
              "\n",
              "  <style>\n",
              "    .colab-df-container {\n",
              "      display:flex;\n",
              "      gap: 12px;\n",
              "    }\n",
              "\n",
              "    .colab-df-convert {\n",
              "      background-color: #E8F0FE;\n",
              "      border: none;\n",
              "      border-radius: 50%;\n",
              "      cursor: pointer;\n",
              "      display: none;\n",
              "      fill: #1967D2;\n",
              "      height: 32px;\n",
              "      padding: 0 0 0 0;\n",
              "      width: 32px;\n",
              "    }\n",
              "\n",
              "    .colab-df-convert:hover {\n",
              "      background-color: #E2EBFA;\n",
              "      box-shadow: 0px 1px 2px rgba(60, 64, 67, 0.3), 0px 1px 3px 1px rgba(60, 64, 67, 0.15);\n",
              "      fill: #174EA6;\n",
              "    }\n",
              "\n",
              "    .colab-df-buttons div {\n",
              "      margin-bottom: 4px;\n",
              "    }\n",
              "\n",
              "    [theme=dark] .colab-df-convert {\n",
              "      background-color: #3B4455;\n",
              "      fill: #D2E3FC;\n",
              "    }\n",
              "\n",
              "    [theme=dark] .colab-df-convert:hover {\n",
              "      background-color: #434B5C;\n",
              "      box-shadow: 0px 1px 3px 1px rgba(0, 0, 0, 0.15);\n",
              "      filter: drop-shadow(0px 1px 2px rgba(0, 0, 0, 0.3));\n",
              "      fill: #FFFFFF;\n",
              "    }\n",
              "  </style>\n",
              "\n",
              "    <script>\n",
              "      const buttonEl =\n",
              "        document.querySelector('#df-284d2232-6f0d-4c05-8b8c-2da82f8f83cf button.colab-df-convert');\n",
              "      buttonEl.style.display =\n",
              "        google.colab.kernel.accessAllowed ? 'block' : 'none';\n",
              "\n",
              "      async function convertToInteractive(key) {\n",
              "        const element = document.querySelector('#df-284d2232-6f0d-4c05-8b8c-2da82f8f83cf');\n",
              "        const dataTable =\n",
              "          await google.colab.kernel.invokeFunction('convertToInteractive',\n",
              "                                                    [key], {});\n",
              "        if (!dataTable) return;\n",
              "\n",
              "        const docLinkHtml = 'Like what you see? Visit the ' +\n",
              "          '<a target=\"_blank\" href=https://colab.research.google.com/notebooks/data_table.ipynb>data table notebook</a>'\n",
              "          + ' to learn more about interactive tables.';\n",
              "        element.innerHTML = '';\n",
              "        dataTable['output_type'] = 'display_data';\n",
              "        await google.colab.output.renderOutput(dataTable, element);\n",
              "        const docLink = document.createElement('div');\n",
              "        docLink.innerHTML = docLinkHtml;\n",
              "        element.appendChild(docLink);\n",
              "      }\n",
              "    </script>\n",
              "  </div>\n",
              "\n",
              "\n",
              "<div id=\"df-a170866a-535a-4f84-98a1-74731975aebc\">\n",
              "  <button class=\"colab-df-quickchart\" onclick=\"quickchart('df-a170866a-535a-4f84-98a1-74731975aebc')\"\n",
              "            title=\"Suggest charts\"\n",
              "            style=\"display:none;\">\n",
              "\n",
              "<svg xmlns=\"http://www.w3.org/2000/svg\" height=\"24px\"viewBox=\"0 0 24 24\"\n",
              "     width=\"24px\">\n",
              "    <g>\n",
              "        <path d=\"M19 3H5c-1.1 0-2 .9-2 2v14c0 1.1.9 2 2 2h14c1.1 0 2-.9 2-2V5c0-1.1-.9-2-2-2zM9 17H7v-7h2v7zm4 0h-2V7h2v10zm4 0h-2v-4h2v4z\"/>\n",
              "    </g>\n",
              "</svg>\n",
              "  </button>\n",
              "\n",
              "<style>\n",
              "  .colab-df-quickchart {\n",
              "      --bg-color: #E8F0FE;\n",
              "      --fill-color: #1967D2;\n",
              "      --hover-bg-color: #E2EBFA;\n",
              "      --hover-fill-color: #174EA6;\n",
              "      --disabled-fill-color: #AAA;\n",
              "      --disabled-bg-color: #DDD;\n",
              "  }\n",
              "\n",
              "  [theme=dark] .colab-df-quickchart {\n",
              "      --bg-color: #3B4455;\n",
              "      --fill-color: #D2E3FC;\n",
              "      --hover-bg-color: #434B5C;\n",
              "      --hover-fill-color: #FFFFFF;\n",
              "      --disabled-bg-color: #3B4455;\n",
              "      --disabled-fill-color: #666;\n",
              "  }\n",
              "\n",
              "  .colab-df-quickchart {\n",
              "    background-color: var(--bg-color);\n",
              "    border: none;\n",
              "    border-radius: 50%;\n",
              "    cursor: pointer;\n",
              "    display: none;\n",
              "    fill: var(--fill-color);\n",
              "    height: 32px;\n",
              "    padding: 0;\n",
              "    width: 32px;\n",
              "  }\n",
              "\n",
              "  .colab-df-quickchart:hover {\n",
              "    background-color: var(--hover-bg-color);\n",
              "    box-shadow: 0 1px 2px rgba(60, 64, 67, 0.3), 0 1px 3px 1px rgba(60, 64, 67, 0.15);\n",
              "    fill: var(--button-hover-fill-color);\n",
              "  }\n",
              "\n",
              "  .colab-df-quickchart-complete:disabled,\n",
              "  .colab-df-quickchart-complete:disabled:hover {\n",
              "    background-color: var(--disabled-bg-color);\n",
              "    fill: var(--disabled-fill-color);\n",
              "    box-shadow: none;\n",
              "  }\n",
              "\n",
              "  .colab-df-spinner {\n",
              "    border: 2px solid var(--fill-color);\n",
              "    border-color: transparent;\n",
              "    border-bottom-color: var(--fill-color);\n",
              "    animation:\n",
              "      spin 1s steps(1) infinite;\n",
              "  }\n",
              "\n",
              "  @keyframes spin {\n",
              "    0% {\n",
              "      border-color: transparent;\n",
              "      border-bottom-color: var(--fill-color);\n",
              "      border-left-color: var(--fill-color);\n",
              "    }\n",
              "    20% {\n",
              "      border-color: transparent;\n",
              "      border-left-color: var(--fill-color);\n",
              "      border-top-color: var(--fill-color);\n",
              "    }\n",
              "    30% {\n",
              "      border-color: transparent;\n",
              "      border-left-color: var(--fill-color);\n",
              "      border-top-color: var(--fill-color);\n",
              "      border-right-color: var(--fill-color);\n",
              "    }\n",
              "    40% {\n",
              "      border-color: transparent;\n",
              "      border-right-color: var(--fill-color);\n",
              "      border-top-color: var(--fill-color);\n",
              "    }\n",
              "    60% {\n",
              "      border-color: transparent;\n",
              "      border-right-color: var(--fill-color);\n",
              "    }\n",
              "    80% {\n",
              "      border-color: transparent;\n",
              "      border-right-color: var(--fill-color);\n",
              "      border-bottom-color: var(--fill-color);\n",
              "    }\n",
              "    90% {\n",
              "      border-color: transparent;\n",
              "      border-bottom-color: var(--fill-color);\n",
              "    }\n",
              "  }\n",
              "</style>\n",
              "\n",
              "  <script>\n",
              "    async function quickchart(key) {\n",
              "      const quickchartButtonEl =\n",
              "        document.querySelector('#' + key + ' button');\n",
              "      quickchartButtonEl.disabled = true;  // To prevent multiple clicks.\n",
              "      quickchartButtonEl.classList.add('colab-df-spinner');\n",
              "      try {\n",
              "        const charts = await google.colab.kernel.invokeFunction(\n",
              "            'suggestCharts', [key], {});\n",
              "      } catch (error) {\n",
              "        console.error('Error during call to suggestCharts:', error);\n",
              "      }\n",
              "      quickchartButtonEl.classList.remove('colab-df-spinner');\n",
              "      quickchartButtonEl.classList.add('colab-df-quickchart-complete');\n",
              "    }\n",
              "    (() => {\n",
              "      let quickchartButtonEl =\n",
              "        document.querySelector('#df-a170866a-535a-4f84-98a1-74731975aebc button');\n",
              "      quickchartButtonEl.style.display =\n",
              "        google.colab.kernel.accessAllowed ? 'block' : 'none';\n",
              "    })();\n",
              "  </script>\n",
              "</div>\n",
              "\n",
              "    </div>\n",
              "  </div>\n"
            ],
            "application/vnd.google.colaboratory.intrinsic+json": {
              "type": "dataframe",
              "summary": "{\n  \"name\": \"null(df)\",\n  \"rows\": 2,\n  \"fields\": [\n    {\n      \"column\": \"count\",\n      \"properties\": {\n        \"dtype\": \"number\",\n        \"std\": 0,\n        \"min\": 16,\n        \"max\": 16,\n        \"num_unique_values\": 1,\n        \"samples\": [\n          16\n        ],\n        \"semantic_type\": \"\",\n        \"description\": \"\"\n      }\n    },\n    {\n      \"column\": \"%pct\",\n      \"properties\": {\n        \"dtype\": \"number\",\n        \"std\": 0.0,\n        \"min\": 0.08247422680412371,\n        \"max\": 0.08247422680412371,\n        \"num_unique_values\": 1,\n        \"samples\": [\n          0.08247422680412371\n        ],\n        \"semantic_type\": \"\",\n        \"description\": \"\"\n      }\n    }\n  ]\n}"
            }
          },
          "metadata": {},
          "execution_count": 18
        }
      ],
      "source": [
        "null(df)"
      ]
    },
    {
      "cell_type": "markdown",
      "id": "639edfd7",
      "metadata": {
        "id": "639edfd7"
      },
      "source": [
        "To deal with null missing values, based on the data type and the percentage of null values, we can take different measures."
      ]
    },
    {
      "cell_type": "markdown",
      "id": "69e6b802",
      "metadata": {
        "id": "69e6b802"
      },
      "source": [
        "* **Strategy (1)**: The percentage is less than 5% : Remove missing values\n",
        "* **Strategy (2)**: The percentage is between 5% and 10% and type is categorical : Impute with mode\n",
        "* **Strategy (3)**: The percentage is more than 10% : Impute with KNN or ask expert"
      ]
    },
    {
      "cell_type": "code",
      "execution_count": null,
      "id": "5075b0d1",
      "metadata": {
        "id": "5075b0d1"
      },
      "outputs": [],
      "source": [
        "df = df.dropna(subset=['DoB','Gender'])"
      ]
    },
    {
      "cell_type": "markdown",
      "id": "63e5fe28",
      "metadata": {
        "id": "63e5fe28",
        "jp-MarkdownHeadingCollapsed": true,
        "tags": []
      },
      "source": [
        "### <div style=\"color:white; background-color:#666; padding: 8px; border-radius: 5px\">**Feature Engineering**</div>"
      ]
    },
    {
      "cell_type": "markdown",
      "id": "9eca29e9",
      "metadata": {
        "id": "9eca29e9"
      },
      "source": [
        "We should convert date values to date format."
      ]
    },
    {
      "cell_type": "code",
      "execution_count": null,
      "id": "e32f8002",
      "metadata": {
        "id": "e32f8002"
      },
      "outputs": [],
      "source": [
        "df['DoB'] = pd.to_datetime(df['DoB'], format='%m/%d/%Y')\n",
        "df['Date'] = pd.to_datetime(df['Date'], format='%m/%d/%Y')"
      ]
    },
    {
      "cell_type": "code",
      "source": [
        "df['DoB']"
      ],
      "metadata": {
        "colab": {
          "base_uri": "https://localhost:8080/"
        },
        "id": "o3uMA_vpgJ_S",
        "outputId": "8fda8d81-1b5e-4316-fec9-1cc76b049cf0"
      },
      "id": "o3uMA_vpgJ_S",
      "execution_count": null,
      "outputs": [
        {
          "output_type": "execute_result",
          "data": {
            "text/plain": [
              "1     1947-02-13\n",
              "2     1948-04-23\n",
              "3     1948-04-23\n",
              "4     1937-01-20\n",
              "5     1956-06-17\n",
              "         ...    \n",
              "180   1970-07-31\n",
              "181   1979-12-03\n",
              "182   1977-12-25\n",
              "183   1933-06-08\n",
              "193   1953-07-30\n",
              "Name: DoB, Length: 178, dtype: datetime64[ns]"
            ]
          },
          "metadata": {},
          "execution_count": 32
        }
      ]
    },
    {
      "cell_type": "markdown",
      "id": "ce9122f2",
      "metadata": {
        "id": "ce9122f2"
      },
      "source": [
        "Now we can cacluate age instead of having date of birth."
      ]
    },
    {
      "cell_type": "code",
      "execution_count": null,
      "id": "16741aef",
      "metadata": {
        "id": "16741aef"
      },
      "outputs": [],
      "source": [
        "df['Age']=2023-df['DoB'].dt.year\n",
        "df=df.drop(['DoB'],axis=1)\n",
        "\n",
        "col_order = ['CustomerID', 'Age', 'Gender', 'Country', 'Purpose', 'Mortgage', 'Source', 'PropertyID', 'Type',\n",
        "            'Area','Price','Satisfaction', 'Date']\n",
        "\n",
        "df = df[col_order]"
      ]
    },
    {
      "cell_type": "markdown",
      "id": "ef9a0e5d",
      "metadata": {
        "id": "ef9a0e5d"
      },
      "source": [
        "Then, we just extract year and month name for `Date` column."
      ]
    },
    {
      "cell_type": "code",
      "execution_count": null,
      "id": "4ca20166",
      "metadata": {
        "id": "4ca20166"
      },
      "outputs": [],
      "source": [
        "df['Year']=df['Date'].dt.year\n",
        "df['Month']=df['Date'].dt.month_name()\n",
        "df=df.drop(['Date'],axis=1)"
      ]
    },
    {
      "cell_type": "markdown",
      "id": "6bbe6039",
      "metadata": {
        "id": "6bbe6039",
        "jp-MarkdownHeadingCollapsed": true,
        "tags": []
      },
      "source": [
        "### <div style=\"color:white; background-color:#666; padding: 8px; border-radius: 5px\">**Handle Duplicants**</div>"
      ]
    },
    {
      "cell_type": "markdown",
      "id": "d25ba8bd-ba22-40f7-9e8e-0f57b8f0caf8",
      "metadata": {
        "id": "d25ba8bd-ba22-40f7-9e8e-0f57b8f0caf8"
      },
      "source": [
        "Duplicate rows can compromise the integrity of the dataset. If we have multiple identical rows, it can lead to inaccurate statistical analysis, misleading results, and duplicate entries in downstream processes. By identifying and removing duplicate rows, we ensure that the data accurately represents the underlying information."
      ]
    },
    {
      "cell_type": "code",
      "execution_count": null,
      "id": "ae6bd490-0074-43da-9ad4-cfbe5b266a23",
      "metadata": {
        "colab": {
          "base_uri": "https://localhost:8080/"
        },
        "id": "ae6bd490-0074-43da-9ad4-cfbe5b266a23",
        "outputId": "018b159f-2e41-4e1b-c05e-4955701719e5"
      },
      "outputs": [
        {
          "output_type": "execute_result",
          "data": {
            "text/plain": [
              "0"
            ]
          },
          "metadata": {},
          "execution_count": 35
        }
      ],
      "source": [
        "df.duplicated().sum()"
      ]
    },
    {
      "cell_type": "markdown",
      "id": "f434486b",
      "metadata": {
        "id": "f434486b"
      },
      "source": [
        "Also, we can see whether we have a customer that have the same property twice or not, regardless the other factors, because other factors might change."
      ]
    },
    {
      "cell_type": "code",
      "execution_count": null,
      "id": "e6cc4bc2-6b21-43fb-8524-fa71633bf813",
      "metadata": {
        "colab": {
          "base_uri": "https://localhost:8080/",
          "height": 53
        },
        "id": "e6cc4bc2-6b21-43fb-8524-fa71633bf813",
        "outputId": "dd3f83ab-7538-4f7a-f44a-bf8bdaf9191f"
      },
      "outputs": [
        {
          "output_type": "execute_result",
          "data": {
            "text/plain": [
              "Empty DataFrame\n",
              "Columns: [CustomerID, Age, Gender, Country, Purpose, Mortgage, Source, PropertyID, Type, Area, Price, Satisfaction, Year, Month]\n",
              "Index: []"
            ],
            "text/html": [
              "\n",
              "  <div id=\"df-56ec3147-6e22-48a9-9c4f-29aa377ede3b\" class=\"colab-df-container\">\n",
              "    <div>\n",
              "<style scoped>\n",
              "    .dataframe tbody tr th:only-of-type {\n",
              "        vertical-align: middle;\n",
              "    }\n",
              "\n",
              "    .dataframe tbody tr th {\n",
              "        vertical-align: top;\n",
              "    }\n",
              "\n",
              "    .dataframe thead th {\n",
              "        text-align: right;\n",
              "    }\n",
              "</style>\n",
              "<table border=\"1\" class=\"dataframe\">\n",
              "  <thead>\n",
              "    <tr style=\"text-align: right;\">\n",
              "      <th></th>\n",
              "      <th>CustomerID</th>\n",
              "      <th>Age</th>\n",
              "      <th>Gender</th>\n",
              "      <th>Country</th>\n",
              "      <th>Purpose</th>\n",
              "      <th>Mortgage</th>\n",
              "      <th>Source</th>\n",
              "      <th>PropertyID</th>\n",
              "      <th>Type</th>\n",
              "      <th>Area</th>\n",
              "      <th>Price</th>\n",
              "      <th>Satisfaction</th>\n",
              "      <th>Year</th>\n",
              "      <th>Month</th>\n",
              "    </tr>\n",
              "  </thead>\n",
              "  <tbody>\n",
              "  </tbody>\n",
              "</table>\n",
              "</div>\n",
              "    <div class=\"colab-df-buttons\">\n",
              "\n",
              "  <div class=\"colab-df-container\">\n",
              "    <button class=\"colab-df-convert\" onclick=\"convertToInteractive('df-56ec3147-6e22-48a9-9c4f-29aa377ede3b')\"\n",
              "            title=\"Convert this dataframe to an interactive table.\"\n",
              "            style=\"display:none;\">\n",
              "\n",
              "  <svg xmlns=\"http://www.w3.org/2000/svg\" height=\"24px\" viewBox=\"0 -960 960 960\">\n",
              "    <path d=\"M120-120v-720h720v720H120Zm60-500h600v-160H180v160Zm220 220h160v-160H400v160Zm0 220h160v-160H400v160ZM180-400h160v-160H180v160Zm440 0h160v-160H620v160ZM180-180h160v-160H180v160Zm440 0h160v-160H620v160Z\"/>\n",
              "  </svg>\n",
              "    </button>\n",
              "\n",
              "  <style>\n",
              "    .colab-df-container {\n",
              "      display:flex;\n",
              "      gap: 12px;\n",
              "    }\n",
              "\n",
              "    .colab-df-convert {\n",
              "      background-color: #E8F0FE;\n",
              "      border: none;\n",
              "      border-radius: 50%;\n",
              "      cursor: pointer;\n",
              "      display: none;\n",
              "      fill: #1967D2;\n",
              "      height: 32px;\n",
              "      padding: 0 0 0 0;\n",
              "      width: 32px;\n",
              "    }\n",
              "\n",
              "    .colab-df-convert:hover {\n",
              "      background-color: #E2EBFA;\n",
              "      box-shadow: 0px 1px 2px rgba(60, 64, 67, 0.3), 0px 1px 3px 1px rgba(60, 64, 67, 0.15);\n",
              "      fill: #174EA6;\n",
              "    }\n",
              "\n",
              "    .colab-df-buttons div {\n",
              "      margin-bottom: 4px;\n",
              "    }\n",
              "\n",
              "    [theme=dark] .colab-df-convert {\n",
              "      background-color: #3B4455;\n",
              "      fill: #D2E3FC;\n",
              "    }\n",
              "\n",
              "    [theme=dark] .colab-df-convert:hover {\n",
              "      background-color: #434B5C;\n",
              "      box-shadow: 0px 1px 3px 1px rgba(0, 0, 0, 0.15);\n",
              "      filter: drop-shadow(0px 1px 2px rgba(0, 0, 0, 0.3));\n",
              "      fill: #FFFFFF;\n",
              "    }\n",
              "  </style>\n",
              "\n",
              "    <script>\n",
              "      const buttonEl =\n",
              "        document.querySelector('#df-56ec3147-6e22-48a9-9c4f-29aa377ede3b button.colab-df-convert');\n",
              "      buttonEl.style.display =\n",
              "        google.colab.kernel.accessAllowed ? 'block' : 'none';\n",
              "\n",
              "      async function convertToInteractive(key) {\n",
              "        const element = document.querySelector('#df-56ec3147-6e22-48a9-9c4f-29aa377ede3b');\n",
              "        const dataTable =\n",
              "          await google.colab.kernel.invokeFunction('convertToInteractive',\n",
              "                                                    [key], {});\n",
              "        if (!dataTable) return;\n",
              "\n",
              "        const docLinkHtml = 'Like what you see? Visit the ' +\n",
              "          '<a target=\"_blank\" href=https://colab.research.google.com/notebooks/data_table.ipynb>data table notebook</a>'\n",
              "          + ' to learn more about interactive tables.';\n",
              "        element.innerHTML = '';\n",
              "        dataTable['output_type'] = 'display_data';\n",
              "        await google.colab.output.renderOutput(dataTable, element);\n",
              "        const docLink = document.createElement('div');\n",
              "        docLink.innerHTML = docLinkHtml;\n",
              "        element.appendChild(docLink);\n",
              "      }\n",
              "    </script>\n",
              "  </div>\n",
              "\n",
              "\n",
              "    </div>\n",
              "  </div>\n"
            ],
            "application/vnd.google.colaboratory.intrinsic+json": {
              "type": "dataframe",
              "repr_error": "Out of range float values are not JSON compliant: nan"
            }
          },
          "metadata": {},
          "execution_count": 24
        }
      ],
      "source": [
        "df[df.duplicated(subset=['CustomerID', 'PropertyID'])]"
      ]
    },
    {
      "cell_type": "markdown",
      "id": "d607e8ca-8140-4a9d-88e5-2f7d78f7123f",
      "metadata": {
        "id": "d607e8ca-8140-4a9d-88e5-2f7d78f7123f",
        "jp-MarkdownHeadingCollapsed": true,
        "tags": []
      },
      "source": [
        "### <div style=\"color:white; background-color:#666; padding: 8px; border-radius: 5px\">**Number Sanity Check**</div>"
      ]
    },
    {
      "cell_type": "markdown",
      "id": "60f88f25",
      "metadata": {
        "id": "60f88f25"
      },
      "source": [
        "Saity check is an important step in data cleaning because it helps identify and handle data values that fall outside the expected or valid range for a particular variable. In addition, we can check how many percentage of values are negative."
      ]
    },
    {
      "cell_type": "code",
      "source": [
        "df[['Age', 'Area', 'Price']].max()\n",
        "df[['Age', 'Area', 'Price']].min()\n"
      ],
      "metadata": {
        "colab": {
          "base_uri": "https://localhost:8080/"
        },
        "id": "dlwc7OChk-05",
        "outputId": "f50149d2-ea56-4aea-8db9-2eb1990457bd"
      },
      "id": "dlwc7OChk-05",
      "execution_count": null,
      "outputs": [
        {
          "output_type": "execute_result",
          "data": {
            "text/plain": [
              "Age          37.00\n",
              "Area        579.75\n",
              "Price    153466.71\n",
              "dtype: float64"
            ]
          },
          "metadata": {},
          "execution_count": 39
        }
      ]
    },
    {
      "cell_type": "code",
      "execution_count": null,
      "id": "604803c8",
      "metadata": {
        "colab": {
          "base_uri": "https://localhost:8080/"
        },
        "id": "604803c8",
        "outputId": "e47b1710-6643-440d-cf0d-fd1f42350cab"
      },
      "outputs": [
        {
          "output_type": "stream",
          "name": "stdout",
          "text": [
            "Age, min: 37, max: 92\n",
            "Area, min: 579.75, max: 1942.5\n",
            "Price, min: 153466.71, max: 503790.23\n"
          ]
        }
      ],
      "source": [
        "num_var = ['Age', 'Area', 'Price']\n",
        "\n",
        "for i in range(len(num_var)):\n",
        "    print('{}, min: {}, max: {}'.format(num_var[i] ,df[num_var[i]].min() ,df[num_var[i]].max()))"
      ]
    },
    {
      "cell_type": "markdown",
      "id": "8844e46c",
      "metadata": {
        "id": "8844e46c",
        "jp-MarkdownHeadingCollapsed": true,
        "tags": []
      },
      "source": [
        "### <div style=\"color:white; background-color:#666; padding: 8px; border-radius: 5px\">**Categorical Possible Range**</div>"
      ]
    },
    {
      "cell_type": "markdown",
      "id": "2e6ffab6",
      "metadata": {
        "id": "2e6ffab6"
      },
      "source": [
        "By checking the possible range for categorical variables, we can identify any unexpected or erroneous values. This helps ensure the data's integrity and validity. It allows us to misspellings, or other inconsistencies in the categorical variable values."
      ]
    },
    {
      "cell_type": "code",
      "execution_count": null,
      "id": "49e9f56d",
      "metadata": {
        "id": "49e9f56d"
      },
      "outputs": [],
      "source": [
        "def cat_checker(Var):\n",
        "    unique_value=pd.Series(df[Var].unique()).sort_values().values\n",
        "    return unique_value"
      ]
    },
    {
      "cell_type": "code",
      "source": [
        "pd.Series(df['Gender'].unique()).sort_values().values"
      ],
      "metadata": {
        "colab": {
          "base_uri": "https://localhost:8080/"
        },
        "id": "UXdpfAbenSqQ",
        "outputId": "e021c549-ed7f-47dd-b449-54807e586641"
      },
      "id": "UXdpfAbenSqQ",
      "execution_count": null,
      "outputs": [
        {
          "output_type": "execute_result",
          "data": {
            "text/plain": [
              "array(['F', 'M'], dtype=object)"
            ]
          },
          "metadata": {},
          "execution_count": 44
        }
      ]
    },
    {
      "cell_type": "code",
      "source": [
        "df['Gender'].unique()"
      ],
      "metadata": {
        "colab": {
          "base_uri": "https://localhost:8080/"
        },
        "id": "N8GuZm19n-t_",
        "outputId": "f0c74e4f-0c56-41ba-9b8e-178f4dc24db7"
      },
      "id": "N8GuZm19n-t_",
      "execution_count": null,
      "outputs": [
        {
          "output_type": "execute_result",
          "data": {
            "text/plain": [
              "array(['M', 'F'], dtype=object)"
            ]
          },
          "metadata": {},
          "execution_count": 46
        }
      ]
    },
    {
      "cell_type": "code",
      "execution_count": null,
      "id": "0a55650a",
      "metadata": {
        "colab": {
          "base_uri": "https://localhost:8080/",
          "height": 81
        },
        "id": "0a55650a",
        "outputId": "5685e553-7268-4351-e3d5-9e62c6a706a8"
      },
      "outputs": [
        {
          "output_type": "execute_result",
          "data": {
            "text/plain": [
              "    CustomerID  Age Gender Country       Purpose Mortgage  Source PropertyID  \\\n",
              "147      C0135   56      M     USA  Personal Use       No  Agency       4041   \n",
              "\n",
              "          Type     Area     Price Satisfaction  Year    Month  \n",
              "147  Apartment  1305.62  402081.8            5  2007  October  "
            ],
            "text/html": [
              "\n",
              "  <div id=\"df-26f508d6-e3f7-47ed-aa8b-3fb3d0996797\" class=\"colab-df-container\">\n",
              "    <div>\n",
              "<style scoped>\n",
              "    .dataframe tbody tr th:only-of-type {\n",
              "        vertical-align: middle;\n",
              "    }\n",
              "\n",
              "    .dataframe tbody tr th {\n",
              "        vertical-align: top;\n",
              "    }\n",
              "\n",
              "    .dataframe thead th {\n",
              "        text-align: right;\n",
              "    }\n",
              "</style>\n",
              "<table border=\"1\" class=\"dataframe\">\n",
              "  <thead>\n",
              "    <tr style=\"text-align: right;\">\n",
              "      <th></th>\n",
              "      <th>CustomerID</th>\n",
              "      <th>Age</th>\n",
              "      <th>Gender</th>\n",
              "      <th>Country</th>\n",
              "      <th>Purpose</th>\n",
              "      <th>Mortgage</th>\n",
              "      <th>Source</th>\n",
              "      <th>PropertyID</th>\n",
              "      <th>Type</th>\n",
              "      <th>Area</th>\n",
              "      <th>Price</th>\n",
              "      <th>Satisfaction</th>\n",
              "      <th>Year</th>\n",
              "      <th>Month</th>\n",
              "    </tr>\n",
              "  </thead>\n",
              "  <tbody>\n",
              "    <tr>\n",
              "      <th>147</th>\n",
              "      <td>C0135</td>\n",
              "      <td>56</td>\n",
              "      <td>M</td>\n",
              "      <td>USA</td>\n",
              "      <td>Personal Use</td>\n",
              "      <td>No</td>\n",
              "      <td>Agency</td>\n",
              "      <td>4041</td>\n",
              "      <td>Apartment</td>\n",
              "      <td>1305.62</td>\n",
              "      <td>402081.8</td>\n",
              "      <td>5</td>\n",
              "      <td>2007</td>\n",
              "      <td>October</td>\n",
              "    </tr>\n",
              "  </tbody>\n",
              "</table>\n",
              "</div>\n",
              "    <div class=\"colab-df-buttons\">\n",
              "\n",
              "  <div class=\"colab-df-container\">\n",
              "    <button class=\"colab-df-convert\" onclick=\"convertToInteractive('df-26f508d6-e3f7-47ed-aa8b-3fb3d0996797')\"\n",
              "            title=\"Convert this dataframe to an interactive table.\"\n",
              "            style=\"display:none;\">\n",
              "\n",
              "  <svg xmlns=\"http://www.w3.org/2000/svg\" height=\"24px\" viewBox=\"0 -960 960 960\">\n",
              "    <path d=\"M120-120v-720h720v720H120Zm60-500h600v-160H180v160Zm220 220h160v-160H400v160Zm0 220h160v-160H400v160ZM180-400h160v-160H180v160Zm440 0h160v-160H620v160ZM180-180h160v-160H180v160Zm440 0h160v-160H620v160Z\"/>\n",
              "  </svg>\n",
              "    </button>\n",
              "\n",
              "  <style>\n",
              "    .colab-df-container {\n",
              "      display:flex;\n",
              "      gap: 12px;\n",
              "    }\n",
              "\n",
              "    .colab-df-convert {\n",
              "      background-color: #E8F0FE;\n",
              "      border: none;\n",
              "      border-radius: 50%;\n",
              "      cursor: pointer;\n",
              "      display: none;\n",
              "      fill: #1967D2;\n",
              "      height: 32px;\n",
              "      padding: 0 0 0 0;\n",
              "      width: 32px;\n",
              "    }\n",
              "\n",
              "    .colab-df-convert:hover {\n",
              "      background-color: #E2EBFA;\n",
              "      box-shadow: 0px 1px 2px rgba(60, 64, 67, 0.3), 0px 1px 3px 1px rgba(60, 64, 67, 0.15);\n",
              "      fill: #174EA6;\n",
              "    }\n",
              "\n",
              "    .colab-df-buttons div {\n",
              "      margin-bottom: 4px;\n",
              "    }\n",
              "\n",
              "    [theme=dark] .colab-df-convert {\n",
              "      background-color: #3B4455;\n",
              "      fill: #D2E3FC;\n",
              "    }\n",
              "\n",
              "    [theme=dark] .colab-df-convert:hover {\n",
              "      background-color: #434B5C;\n",
              "      box-shadow: 0px 1px 3px 1px rgba(0, 0, 0, 0.15);\n",
              "      filter: drop-shadow(0px 1px 2px rgba(0, 0, 0, 0.3));\n",
              "      fill: #FFFFFF;\n",
              "    }\n",
              "  </style>\n",
              "\n",
              "    <script>\n",
              "      const buttonEl =\n",
              "        document.querySelector('#df-26f508d6-e3f7-47ed-aa8b-3fb3d0996797 button.colab-df-convert');\n",
              "      buttonEl.style.display =\n",
              "        google.colab.kernel.accessAllowed ? 'block' : 'none';\n",
              "\n",
              "      async function convertToInteractive(key) {\n",
              "        const element = document.querySelector('#df-26f508d6-e3f7-47ed-aa8b-3fb3d0996797');\n",
              "        const dataTable =\n",
              "          await google.colab.kernel.invokeFunction('convertToInteractive',\n",
              "                                                    [key], {});\n",
              "        if (!dataTable) return;\n",
              "\n",
              "        const docLinkHtml = 'Like what you see? Visit the ' +\n",
              "          '<a target=\"_blank\" href=https://colab.research.google.com/notebooks/data_table.ipynb>data table notebook</a>'\n",
              "          + ' to learn more about interactive tables.';\n",
              "        element.innerHTML = '';\n",
              "        dataTable['output_type'] = 'display_data';\n",
              "        await google.colab.output.renderOutput(dataTable, element);\n",
              "        const docLink = document.createElement('div');\n",
              "        docLink.innerHTML = docLinkHtml;\n",
              "        element.appendChild(docLink);\n",
              "      }\n",
              "    </script>\n",
              "  </div>\n",
              "\n",
              "\n",
              "    </div>\n",
              "  </div>\n"
            ],
            "application/vnd.google.colaboratory.intrinsic+json": {
              "type": "dataframe",
              "repr_error": "0"
            }
          },
          "metadata": {},
          "execution_count": 41
        }
      ],
      "source": [
        "df.sample(1)"
      ]
    },
    {
      "cell_type": "code",
      "execution_count": null,
      "id": "003293f5",
      "metadata": {
        "colab": {
          "base_uri": "https://localhost:8080/"
        },
        "id": "003293f5",
        "outputId": "da50a515-3e54-4825-d32e-3cc949d0bd65"
      },
      "outputs": [
        {
          "output_type": "execute_result",
          "data": {
            "text/plain": [
              "array(['F', 'M'], dtype=object)"
            ]
          },
          "metadata": {},
          "execution_count": 28
        }
      ],
      "source": [
        "cat_checker('Gender')"
      ]
    },
    {
      "cell_type": "code",
      "execution_count": null,
      "id": "b3c3f178",
      "metadata": {
        "colab": {
          "base_uri": "https://localhost:8080/"
        },
        "id": "b3c3f178",
        "outputId": "148ada84-d036-4513-eae7-480ccd095f1b"
      },
      "outputs": [
        {
          "output_type": "execute_result",
          "data": {
            "text/plain": [
              "array(['Investment', 'Personal Use'], dtype=object)"
            ]
          },
          "metadata": {},
          "execution_count": 29
        }
      ],
      "source": [
        "cat_checker('Purpose')"
      ]
    },
    {
      "cell_type": "code",
      "execution_count": null,
      "id": "86b0477e",
      "metadata": {
        "colab": {
          "base_uri": "https://localhost:8080/"
        },
        "id": "86b0477e",
        "outputId": "1edc3572-36c2-417f-fc7b-b4f0b1ff0890"
      },
      "outputs": [
        {
          "output_type": "execute_result",
          "data": {
            "text/plain": [
              "array(['No', 'Yes'], dtype=object)"
            ]
          },
          "metadata": {},
          "execution_count": 30
        }
      ],
      "source": [
        "cat_checker('Mortgage')"
      ]
    },
    {
      "cell_type": "code",
      "execution_count": null,
      "id": "c8457905",
      "metadata": {
        "colab": {
          "base_uri": "https://localhost:8080/"
        },
        "id": "c8457905",
        "outputId": "17ee1231-10bd-4d21-aa91-87013f743639"
      },
      "outputs": [
        {
          "output_type": "execute_result",
          "data": {
            "text/plain": [
              "array(['Agency', 'Client', 'Website'], dtype=object)"
            ]
          },
          "metadata": {},
          "execution_count": 31
        }
      ],
      "source": [
        "cat_checker('Source')"
      ]
    },
    {
      "cell_type": "code",
      "execution_count": null,
      "id": "512cd85a",
      "metadata": {
        "colab": {
          "base_uri": "https://localhost:8080/"
        },
        "id": "512cd85a",
        "outputId": "71097a15-350c-4095-dde6-5c6855498819"
      },
      "outputs": [
        {
          "output_type": "execute_result",
          "data": {
            "text/plain": [
              "array(['Apartment', 'Office'], dtype=object)"
            ]
          },
          "metadata": {},
          "execution_count": 32
        }
      ],
      "source": [
        "cat_checker('Type')"
      ]
    },
    {
      "cell_type": "code",
      "execution_count": null,
      "id": "39feb23a",
      "metadata": {
        "colab": {
          "base_uri": "https://localhost:8080/"
        },
        "id": "39feb23a",
        "outputId": "6e477fa8-a37d-4ebf-f7a4-11ad591be50d"
      },
      "outputs": [
        {
          "output_type": "execute_result",
          "data": {
            "text/plain": [
              "array([1, 2, 3, 4, 5], dtype=object)"
            ]
          },
          "metadata": {},
          "execution_count": 33
        }
      ],
      "source": [
        "cat_checker('Satisfaction')"
      ]
    },
    {
      "cell_type": "markdown",
      "id": "3538ef89",
      "metadata": {
        "id": "3538ef89",
        "jp-MarkdownHeadingCollapsed": true,
        "tags": []
      },
      "source": [
        "### <div style=\"color:white; background-color:#666; padding: 8px; border-radius: 5px\">**Data Analysis**</div>"
      ]
    },
    {
      "cell_type": "markdown",
      "id": "31f97204",
      "metadata": {
        "id": "31f97204"
      },
      "source": [
        "In this part, we want to do some statistical analysis on data breakdown on country. The questions that we are trying to answer are the following:"
      ]
    },
    {
      "cell_type": "markdown",
      "id": "26b9a1b3",
      "metadata": {
        "id": "26b9a1b3"
      },
      "source": [
        "**Age Distribution of Customers**"
      ]
    },
    {
      "cell_type": "code",
      "execution_count": null,
      "id": "96b0dc79",
      "metadata": {
        "id": "96b0dc79"
      },
      "outputs": [],
      "source": [
        "def age_dist(country):\n",
        "    country_df = df[df['Country'] == country]\n",
        "    age_range = pd.cut(\n",
        "        country_df['Age'],\n",
        "        bins = [0, 30, 50, 70, 100],\n",
        "        labels = ['0-30' , '31-50', '51-70' , '71-100']\n",
        "    )\n",
        "    return age_range.value_counts()"
      ]
    },
    {
      "cell_type": "code",
      "source": [
        "age_dist('USA')"
      ],
      "metadata": {
        "colab": {
          "base_uri": "https://localhost:8080/"
        },
        "id": "QHooRovEojl3",
        "outputId": "9bab177c-7062-4a86-8ae2-77c18b95ea3b"
      },
      "id": "QHooRovEojl3",
      "execution_count": null,
      "outputs": [
        {
          "output_type": "execute_result",
          "data": {
            "text/plain": [
              "Age\n",
              "51-70     81\n",
              "71-100    40\n",
              "31-50     36\n",
              "0-30       0\n",
              "Name: count, dtype: int64"
            ]
          },
          "metadata": {},
          "execution_count": 49
        }
      ]
    },
    {
      "cell_type": "markdown",
      "id": "92e30a69",
      "metadata": {
        "id": "92e30a69"
      },
      "source": [
        "**Average Price**"
      ]
    },
    {
      "cell_type": "code",
      "execution_count": null,
      "id": "18ab55e4",
      "metadata": {
        "colab": {
          "base_uri": "https://localhost:8080/"
        },
        "id": "18ab55e4",
        "outputId": "0e71230c-375f-432c-9233-0d84ab92e47f"
      },
      "outputs": [
        {
          "output_type": "stream",
          "name": "stdout",
          "text": [
            "Average price in USA: 271020.37464968156\n",
            "Average price in Belgium: 229075.47\n",
            "Average price in Russia: 278828.83499999996\n",
            "Average price in USA : 316315.58666666667\n",
            "Average price in Denmark: 257183.48\n",
            "Average price in Canada: 274069.38428571424\n",
            "Average price in Mexico: 338181.18\n",
            "Average price in UK: 220142.68\n",
            "Average price in Germany: 205098.21\n"
          ]
        }
      ],
      "source": [
        "def avg_price(country):\n",
        "    country_df = df[df['Country'] == country]\n",
        "    return country_df['Price'].mean()\n",
        "\n",
        "unq_country = df['Country'].unique()\n",
        "\n",
        "for country in unq_country:\n",
        "    average_price = avg_price(country)\n",
        "    print(f\"Average price in {country}: {average_price}\")"
      ]
    },
    {
      "source": [
        "for i in df['Country'].unique():\n",
        "    print(df[df['Country'] == i]['Price'].mean())"
      ],
      "cell_type": "code",
      "metadata": {
        "colab": {
          "base_uri": "https://localhost:8080/"
        },
        "id": "6EAy1H-Z5W4w",
        "outputId": "5214a7b6-5983-49a6-c5ca-673bbf39c137"
      },
      "id": "6EAy1H-Z5W4w",
      "execution_count": null,
      "outputs": [
        {
          "output_type": "stream",
          "name": "stdout",
          "text": [
            "271020.37464968156\n",
            "229075.47\n",
            "278828.83499999996\n",
            "316315.58666666667\n",
            "257183.48\n",
            "274069.38428571424\n",
            "338181.18\n",
            "220142.68\n",
            "205098.21\n"
          ]
        }
      ]
    },
    {
      "cell_type": "markdown",
      "id": "5399250d",
      "metadata": {
        "id": "5399250d"
      },
      "source": [
        "**Distribution of Sales across Months and Years**"
      ]
    },
    {
      "cell_type": "code",
      "execution_count": null,
      "id": "c81fe9f8",
      "metadata": {
        "id": "c81fe9f8"
      },
      "outputs": [],
      "source": [
        "def sales_dist(country):\n",
        "    country_df = df[df['Country'] == country]\n",
        "    return country_df.groupby(['Year', 'Month']).size()"
      ]
    },
    {
      "cell_type": "code",
      "source": [
        "df[df['Country'] == 'USA'].groupby(['Year', 'Month']).size()"
      ],
      "metadata": {
        "colab": {
          "base_uri": "https://localhost:8080/"
        },
        "id": "pxov1JdT5qKH",
        "outputId": "a922078a-edf5-4043-cc04-cbc9b4cc69de"
      },
      "id": "pxov1JdT5qKH",
      "execution_count": null,
      "outputs": [
        {
          "output_type": "execute_result",
          "data": {
            "text/plain": [
              "Year  Month    \n",
              "2004  August        2\n",
              "      June          2\n",
              "      March         1\n",
              "      November      2\n",
              "      October       5\n",
              "2005  August        2\n",
              "      December      2\n",
              "      February      1\n",
              "      June          2\n",
              "      March         4\n",
              "      November      1\n",
              "      October       1\n",
              "2006  April         1\n",
              "      August        5\n",
              "      December      2\n",
              "      February      1\n",
              "      July          1\n",
              "      June          4\n",
              "      March         4\n",
              "      May           1\n",
              "      November      4\n",
              "      October       5\n",
              "      September     6\n",
              "2007  April         7\n",
              "      August        8\n",
              "      December      8\n",
              "      February      4\n",
              "      January       4\n",
              "      July          5\n",
              "      June          7\n",
              "      March        10\n",
              "      May           6\n",
              "      November     16\n",
              "      October       7\n",
              "      September     6\n",
              "2008  December      3\n",
              "      January       3\n",
              "      May           3\n",
              "2010  May           1\n",
              "dtype: int64"
            ]
          },
          "metadata": {},
          "execution_count": 61
        }
      ]
    },
    {
      "cell_type": "markdown",
      "id": "98ffc8c4",
      "metadata": {
        "id": "98ffc8c4"
      },
      "source": [
        "**Percentage of Sales from each source**"
      ]
    },
    {
      "cell_type": "code",
      "execution_count": null,
      "id": "25d150cd",
      "metadata": {
        "id": "25d150cd"
      },
      "outputs": [],
      "source": [
        "def ads_effect(country):\n",
        "    country_df = df[df['Country'] == country]\n",
        "    return country_df['Source'].value_counts(normalize=True)*100"
      ]
    },
    {
      "cell_type": "code",
      "source": [
        "ads_effect('USA')"
      ],
      "metadata": {
        "colab": {
          "base_uri": "https://localhost:8080/"
        },
        "id": "eJtD14T9BDDO",
        "outputId": "f181cc7a-4b05-444e-be97-ab627ead644d"
      },
      "id": "eJtD14T9BDDO",
      "execution_count": null,
      "outputs": [
        {
          "output_type": "execute_result",
          "data": {
            "text/plain": [
              "Source\n",
              "Website    58.598726\n",
              "Agency     30.573248\n",
              "Client     10.828025\n",
              "Name: proportion, dtype: float64"
            ]
          },
          "metadata": {},
          "execution_count": 63
        }
      ]
    },
    {
      "cell_type": "markdown",
      "id": "b91b5af3",
      "metadata": {
        "id": "b91b5af3"
      },
      "source": [
        "**Correlation Analysis among age, price and area**"
      ]
    },
    {
      "cell_type": "code",
      "execution_count": null,
      "id": "e94336f5",
      "metadata": {
        "id": "e94336f5"
      },
      "outputs": [],
      "source": [
        "def cor_age_price_area(country):\n",
        "    country_df = df[df['Country'] == country]\n",
        "\n",
        "    return country_df[['Age','Price', 'Area']].corr()"
      ]
    },
    {
      "cell_type": "code",
      "execution_count": null,
      "id": "5998a36e",
      "metadata": {
        "id": "5998a36e"
      },
      "outputs": [],
      "source": []
    }
  ],
  "metadata": {
    "colab": {
      "provenance": []
    },
    "kernelspec": {
      "display_name": "Python 3 (ipykernel)",
      "language": "python",
      "name": "python3"
    },
    "language_info": {
      "codemirror_mode": {
        "name": "ipython",
        "version": 3
      },
      "file_extension": ".py",
      "mimetype": "text/x-python",
      "name": "python",
      "nbconvert_exporter": "python",
      "pygments_lexer": "ipython3",
      "version": "3.10.9"
    }
  },
  "nbformat": 4,
  "nbformat_minor": 5
}